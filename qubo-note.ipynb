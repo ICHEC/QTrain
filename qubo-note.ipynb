{
 "cells": [
  {
   "cell_type": "markdown",
   "metadata": {},
   "source": [
    "# QUBO\n",
    "\n",
    "Quadratic unconstrained binary optimization (QUBO) is a problem of minimizing the following function of binary variables -\n",
    "\n",
    "$$\n",
    "f({\\bf x}) = {\\bf x^T Q x} + {\\bf v^T x}\n",
    "$$\n",
    "\n",
    "where ${\\bf x}=(x_1, x_2, \\dots, x_n)$ is a vector of binary variables $x_i = 0, 1$, ${\\bf Q}$ is a real symmetric matrix, and ${\\bf v}$ is a vector.\n",
    "\n",
    "\n",
    "### applications:\n",
    "\n",
    "- Ising model\n",
    "- Lattice gas model\n",
    "- Set partition problem\n",
    "- Finance"
   ]
  },
  {
   "cell_type": "code",
   "execution_count": 1,
   "metadata": {},
   "outputs": [],
   "source": [
    "import numpy as np\n",
    "import qiskit"
   ]
  },
  {
   "cell_type": "code",
   "execution_count": 2,
   "metadata": {},
   "outputs": [
    {
     "name": "stdout",
     "output_type": "stream",
     "text": [
      "0.015625\n"
     ]
    }
   ],
   "source": [
    "import pennylane as qml\n",
    "\n",
    "# Create a Qiskit Aer device\n",
    "dev = qml.device(\"qiskit.aer\", wires=2)\n",
    "\n",
    "@qml.qnode(dev)\n",
    "def circuit():\n",
    "    qml.Hadamard(wires=0)\n",
    "    qml.CNOT(wires=[0, 1])\n",
    "    return qml.expval(qml.PauliZ(1))\n",
    "\n",
    "print(circuit())  # Should output 0.0 (Bell state expectation)"
   ]
  },
  {
   "cell_type": "code",
   "execution_count": 32,
   "metadata": {},
   "outputs": [
    {
     "data": {
      "text/html": [
       "<pre style=\"word-wrap: normal;white-space: pre;background: #fff0;line-height: 1.1;font-family: &quot;Courier New&quot;,Courier,monospace\">        ┌───┐               ┌───┐          ┌───┐      ░ ┌─┐      \n",
       "   q_0: ┤ H ├──■────■───────┤ X ├──────────┤ X ├──────░─┤M├──────\n",
       "        └───┘┌─┴─┐  │  ┌───┐└─┬─┘          └─┬─┘┌───┐ ░ └╥┘┌─┐   \n",
       "   q_1: ─────┤ X ├──┼──┤ H ├──■────■─────────┼──┤ X ├─░──╫─┤M├───\n",
       "             └───┘┌─┴─┐└───┘     ┌─┴─┐┌───┐  │  └─┬─┘ ░  ║ └╥┘┌─┐\n",
       "   q_2: ──────────┤ X ├──────────┤ X ├┤ H ├──■────■───░──╫──╫─┤M├\n",
       "                  └───┘          └───┘└───┘           ░  ║  ║ └╥┘\n",
       "meas: 3/═════════════════════════════════════════════════╩══╩══╩═\n",
       "                                                         0  1  2 </pre>"
      ],
      "text/plain": [
       "        ┌───┐               ┌───┐          ┌───┐      ░ ┌─┐      \n",
       "   q_0: ┤ H ├──■────■───────┤ X ├──────────┤ X ├──────░─┤M├──────\n",
       "        └───┘┌─┴─┐  │  ┌───┐└─┬─┘          └─┬─┘┌───┐ ░ └╥┘┌─┐   \n",
       "   q_1: ─────┤ X ├──┼──┤ H ├──■────■─────────┼──┤ X ├─░──╫─┤M├───\n",
       "             └───┘┌─┴─┐└───┘     ┌─┴─┐┌───┐  │  └─┬─┘ ░  ║ └╥┘┌─┐\n",
       "   q_2: ──────────┤ X ├──────────┤ X ├┤ H ├──■────■───░──╫──╫─┤M├\n",
       "                  └───┘          └───┘└───┘           ░  ║  ║ └╥┘\n",
       "meas: 3/═════════════════════════════════════════════════╩══╩══╩═\n",
       "                                                         0  1  2 "
      ]
     },
     "execution_count": 32,
     "metadata": {},
     "output_type": "execute_result"
    }
   ],
   "source": [
    "N = 3\n",
    "qc = qiskit.QuantumCircuit(N)\n",
    "for i, q1 in enumerate(qc.qubits):\n",
    "    qc.h(q1)\n",
    "    for j, q2 in enumerate(qc.qubits):\n",
    "        if i != j:\n",
    "            qc.cx(q1, q2)\n",
    "qc.measure_all()\n",
    "qc.draw()"
   ]
  },
  {
   "cell_type": "code",
   "execution_count": 35,
   "metadata": {},
   "outputs": [],
   "source": [
    "qc1 = qc.copy()"
   ]
  },
  {
   "cell_type": "code",
   "execution_count": 38,
   "metadata": {},
   "outputs": [
    {
     "data": {
      "text/plain": [
       "<module 'qiskit.compiler' from '/Users/rajarshi/miniforge/envs/qiskit/lib/python3.12/site-packages/qiskit/compiler/__init__.py'>"
      ]
     },
     "execution_count": 38,
     "metadata": {},
     "output_type": "execute_result"
    }
   ],
   "source": [
    "qiskit.compiler"
   ]
  },
  {
   "cell_type": "code",
   "execution_count": null,
   "metadata": {},
   "outputs": [],
   "source": []
  }
 ],
 "metadata": {
  "kernelspec": {
   "display_name": "Python 3",
   "language": "python",
   "name": "python3"
  },
  "language_info": {
   "codemirror_mode": {
    "name": "ipython",
    "version": 3
   },
   "file_extension": ".py",
   "mimetype": "text/x-python",
   "name": "python",
   "nbconvert_exporter": "python",
   "pygments_lexer": "ipython3",
   "version": "3.12.9"
  }
 },
 "nbformat": 4,
 "nbformat_minor": 2
}
