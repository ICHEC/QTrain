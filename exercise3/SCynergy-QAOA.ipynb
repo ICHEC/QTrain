{
 "cells": [
  {
   "cell_type": "markdown",
   "id": "8b7543ca-7677-4d2f-94a9-27e8bc2f3d12",
   "metadata": {},
   "source": [
    "# Quadratic Unconstrained Binary Optimization Problems"
   ]
  },
  {
   "cell_type": "markdown",
   "id": "02e6d504-a7a5-4209-959e-894f8c502dd7",
   "metadata": {},
   "source": [
    "## Contents\n",
    "\n",
    "1. **Quadratic Unconstrained Binary Optimization (QUBO) formulation**\n",
    "2. **Quantum Approximate Optimization Algorithm (QAOA)**\n",
    "3. **A quadratic optimization example**\n",
    "4. **A linear optimization example**\n",
    "5. **A Max Cut example**\n",
    "6. **A Travelling Salesman Problem (TSP) example**\n"
   ]
  },
  {
   "cell_type": "markdown",
   "id": "21a5e847-24aa-48b3-ac76-cf263c5a5f40",
   "metadata": {},
   "source": [
    "## Quadratic Unconstrained Binary Optimization (QUBO)"
   ]
  },
  {
   "cell_type": "raw",
   "id": "f092e578-5eeb-495b-939d-501dd9bd0b53",
   "metadata": {},
   "source": [
    "This section provides an overview of the essential tools required for working with QUBO formulations with Qiskit. We will be exploring small examples of classical optimization problems.\n",
    "\n",
    "Quantum computing presents promising solutions for various optimization problems, particularly **Quadratic Unconstrained Binary Optimization (QUBO)** problems. Solving a QUBO is mathematically equivalent to determining the ground state of an associated Ising Hamiltonian. This problem is crucial not only in optimization but also in fields such as quantum chemistry and physics. The transformation involves converting binary variables (values in {0,1}) into spin variables (values in {-1,+1}), which can then be expressed in terms of Pauli Z matrices, ultimately forming an Ising Hamiltonian. More details on this conversion process can be found in [1].\n",
    "\n",
    "QUBO is a mathematical formulation that can express a variety of combinatorial optimization problems [2].  \n",
    "QUBO solvers can therefore address many problems, once expressed in this form.\n",
    "\n",
    "QUBO problem definition: \n",
    "\n",
    "minimize $y = x^t Q x$\n",
    "\n",
    "where $x$ is a vector of binary decision variables.\n",
    "\n",
    "Note that linear (binary) objective functions are expressed with $Q$ as a diagonal matrix, because $x_j^2 = x_j$.\n",
    "\n",
    "\n",
    "_References_  \n",
    "[1] [A. Lucas, *Ising formulations of many NP problems*, Front. Phys., 12 (2014).](https://arxiv.org/abs/1302.5843)\n",
    "[2] [F. Glover, et al., *Quantum bridge analytics I: a tutorial on formulating and using QUBO models*, Annals of Operations Research 314.1 (2022): 141-183.]"
   ]
  },
  {
   "cell_type": "raw",
   "id": "e713319d-f46a-48be-aa7a-e6d1cc2e0784",
   "metadata": {},
   "source": [
    "## Quantum Approximate Optimization Algorithm (QAOA)"
   ]
  },
  {
   "cell_type": "markdown",
   "id": "dc971a54-41d1-424f-b6dd-30050cbf4e65",
   "metadata": {},
   "source": [
    "## Quadratic Problem example\n",
    "\n",
    "In this example, we will solve an instance of a Quadratic Assignment Problem (QAP).\n",
    "In this problem, there is $n$ facilities and $n$ locations. \n",
    "Locations are distant to one another, specified as a matrix $(D_{ij})$.\n",
    "Also, facilities are connected via a flow matrix $(F_{ij})$.\n",
    "\n",
    "Decision variable $x_{ij} = 1$ if facility $i$ is assigned to location $j$. \n",
    "\n",
    "The objective is to find an assignment of facilities to locations, in order to minimize the weighted flow.\n",
    "\n",
    "$\\sum_{i=1}^{n}\\sum_{j=1}^{n}\\sum_{k=1}^{n}\\sum_{l=1}^{n} F_{ij} D_{kl} x_{ik} x_{jl}$ \n",
    "\n",
    "with: \n",
    "\n",
    "$\\sum_{i=1}^{n} x_{ij} = 1$ and $j=1,n$, to express that a location hosts one facility\n",
    "\n",
    "$\\sum_{j=1}^{n} x_{ij} = 1$ and $i=1,n$, to express that a facility sits a one location\n",
    "\n",
    "$x_{ij} \\in {0,1}$ \n",
    "\n"
   ]
  },
  {
   "cell_type": "markdown",
   "id": "f9c4a1f1-f00f-41ab-99b3-5a988c9d1f46",
   "metadata": {},
   "source": [
    "For example, let's consider a Flow matrix: \n",
    "$\\begin{pmatrix}\n",
    "0 & 5 & 2\\\\\n",
    "5 & 0 & 3\\\\\n",
    "2 & 3 & 0\n",
    "\\end{pmatrix}$ \n",
    "and a Distance matrix: \n",
    "$\\begin{pmatrix}\n",
    "0 & 8 & 15\\\\\n",
    "8 & 0 & 13\\\\\n",
    "15 & 13 & 0\n",
    "\\end{pmatrix}$ \n",
    "\n",
    "Rewriting the assignment variables to use a single digit subscript:\n",
    "\n",
    "$(x_{11}, x_{12}, x_{13}, x_{21}, x_{22}, x_{23}, x_{31}, x_{32}, x_{33}) = (x_1, x_2, x_3, x_4, x_5, x_6, x_7,x_8, x_9)$\n",
    "\n",
    "The QAP becomes:\n",
    "\n",
    "$min x_0 = 80 x_1 x_5 + 150 x_1 x_6 + 32 x_1 x_8 + 60 x_1 x_9 + 80 x_2 x_4 + 130 x_2 x_6 + 60 x_2 x_7 + 52 x_2 x_9 +\n",
    "150 x_3 x_4 + 130 x_3 x_5 + 60 x_3 x_7 + 52 x_3 x_8 + 48 x_4 x_8 + 90 x_4 x_9 + 78 x_5 x_9 + 78 x_6 x_8$\n",
    "\n",
    "subject to the assignment constraints:\n",
    "\n",
    "$x_1 + x_2 + x_3 = 1$, $x_4 + x_5 + x_6 = 1$, $x_7 + x_8 + x_9 = 1$ \n",
    "\n",
    "$x_1 + x_4 + x_7 = 1$, $x_2 + x_5 + x_8 = 1$, $x_3 + x_6 + x_9 = 1$ \n"
   ]
  },
  {
   "cell_type": "markdown",
   "id": "638d188f-1386-4839-98b4-c6c09e5bcbb3",
   "metadata": {},
   "source": [
    "Because QUBO stands for unconstrained, we should remove the assignment constraints. \n",
    "\n",
    "We can do so by converting the constraints into penalty terms, added to the objective function.\n",
    "\n",
    "The penalty terms are the constraint equations, squared with a penalty factor $P$, sufficiently high to prevent constraints from being violated:\n",
    "\n",
    "$min x_0 = 80 x_1 x_5 + 150 x_1 x_6 + 32 x_1 x_8 + 60 x_1 x_9 + 80 x_2 x_4 + 130 x_2 x_6 + 60 x_2 x_7 + 52 x_2 x_9 \n",
    "+ 150 x_3 x_4 + 130 x_3 x_5 + 60 x_3 x_7 + 52 x_3 x_8 + 48 x_4 x_8 + 90 x_4 x_9 + 78 x_5 x_9 + 78 x_6 x_8 $ \\\n",
    "$+ P (x_1 + x_2 + x_3 -1)^2 + P (x_4 + x_5 + x_6 -1)^2 + P (x_7 + x_8 + x_9 -1)^2 $ \\\n",
    "$+ P (x_1 + x_4 + x_7 -1)^2 + P (x_2 + x_5 + x_8 -1)^2 + P (x_3 + x_6 + x_9 -1)^2 $\n",
    "\n",
    "But, Qiskit Algorithms library allows us to define the QUBO directly with the constraints.\n"
   ]
  },
  {
   "cell_type": "code",
   "execution_count": 8,
   "id": "3a4a7a90-ce3d-4f9b-b7c0-39324e84e99c",
   "metadata": {},
   "outputs": [
    {
     "name": "stdout",
     "output_type": "stream",
     "text": [
      "Problem name: \n",
      "\n",
      "Minimize\n",
      "  80*x1*x5 + 150*x1*x6 + 32*x1*x8 + 60*x1*x9 + 80*x2*x4 + 130*x2*x6 + 60*x2*x7\n",
      "  + 52*x2*x9 + 150*x3*x4 + 130*x3*x5 + 60*x3*x7 + 52*x3*x8 + 48*x4*x8 + 90*x4*x9\n",
      "  + 78*x5*x9 + 78*x6*x8\n",
      "\n",
      "Subject to\n",
      "  Linear constraints (6)\n",
      "    x1 + x2 + x3 == 1  'c0'\n",
      "    x4 + x5 + x6 == 1  'c1'\n",
      "    x7 + x8 + x9 == 1  'c2'\n",
      "    x1 + x4 + x7 == 1  'c3'\n",
      "    x2 + x5 + x8 == 1  'c4'\n",
      "    x3 + x6 + x9 == 1  'c5'\n",
      "\n",
      "  Binary variables (9)\n",
      "    x1 x2 x3 x4 x5 x6 x7 x8 x9\n",
      "\n"
     ]
    }
   ],
   "source": [
    "from qiskit_algorithms.utils import algorithm_globals\n",
    "from qiskit_algorithms import QAOA\n",
    "from qiskit_algorithms.optimizers import COBYLA\n",
    "from qiskit.primitives import BackendSampler\n",
    "from qiskit_optimization.algorithms import (\n",
    "    MinimumEigenOptimizer,\n",
    "    OptimizationResultStatus,\n",
    ")\n",
    "from qiskit_aer import Aer\n",
    "from qiskit_optimization import QuadraticProgram\n",
    "\n",
    "# create our QUBO for QAP\n",
    "qubo = QuadraticProgram()\n",
    "for i in range(1,10):\n",
    "    qubo.binary_var(f\"x{i}\")\n",
    "qubo.minimize(quadratic={(\"x1\", \"x5\"): 80, (\"x1\", \"x6\"): 150, (\"x1\", \"x8\"): 32, (\"x1\",\"x9\"): 60, (\"x2\",\"x4\"): 80, (\"x2\", \"x6\"): 130, (\"x2\",\"x7\"): 60, (\"x2\",\"x9\"): 52, (\"x3\",\"x4\"): 150, (\"x3\",\"x5\"): 130, (\"x3\",\"x7\"): 60, (\"x3\",\"x8\"): 52, (\"x4\",\"x8\"): 48, (\"x4\",\"x9\"): 90, (\"x5\",\"x9\"): 78, (\"x6\",\"x8\"): 78})\n",
    "qubo.linear_constraint(linear={\"x1\": 1, \"x2\": 1, \"x3\": 1}, sense=\"==\", rhs=1)\n",
    "qubo.linear_constraint(linear={\"x4\": 1, \"x5\": 1, \"x6\": 1}, sense=\"==\", rhs=1)\n",
    "qubo.linear_constraint(linear={\"x7\": 1, \"x8\": 1, \"x9\": 1}, sense=\"==\", rhs=1)\n",
    "qubo.linear_constraint(linear={\"x1\": 1, \"x4\": 1, \"x7\": 1}, sense=\"==\", rhs=1)\n",
    "qubo.linear_constraint(linear={\"x2\": 1, \"x5\": 1, \"x8\": 1}, sense=\"==\", rhs=1)\n",
    "qubo.linear_constraint(linear={\"x3\": 1, \"x6\": 1, \"x9\": 1}, sense=\"==\", rhs=1)\n",
    "print(qubo.prettyprint())\n"
   ]
  },
  {
   "cell_type": "code",
   "execution_count": 9,
   "id": "4e85e0c9-a6b5-48bc-8893-1c7b3fd15c49",
   "metadata": {
    "editable": true,
    "slideshow": {
     "slide_type": ""
    },
    "tags": []
   },
   "outputs": [
    {
     "name": "stderr",
     "output_type": "stream",
     "text": [
      "/tmp/ipykernel_2563/3069322072.py:8: DeprecationWarning: The class ``qiskit.primitives.backend_sampler.BackendSampler`` is deprecated as of qiskit 1.2. It will be removed no earlier than 3 months after the release date. All implementations of the `BaseSamplerV1` interface have been deprecated in favor of their V2 counterparts. The V2 alternative for the `BackendSampler` class is `BackendSamplerV2`.\n",
      "  qaoa = QAOA(sampler=BackendSampler(backend=simulator), optimizer=COBYLA(), reps=3)\n"
     ]
    },
    {
     "name": "stdout",
     "output_type": "stream",
     "text": [
      "objective function value: 190.0\n",
      "variable values: x1=0.0, x2=0.0, x3=1.0, x4=0.0, x5=1.0, x6=0.0, x7=1.0, x8=0.0, x9=0.0\n",
      "status: SUCCESS\n"
     ]
    }
   ],
   "source": [
    "# Set up the quantum backend\n",
    "algorithm_globals.random_seed = 142\n",
    "simulator = Aer.get_backend(\"aer_simulator\")\n",
    "simulator.set_options(\n",
    "    max_parallel_threads=128,  # Use multiple threads\n",
    ")\n",
    "# Define the QAOA solver\n",
    "qaoa = QAOA(sampler=BackendSampler(backend=simulator), optimizer=COBYLA(), reps=3)\n",
    "qaoa_solver = MinimumEigenOptimizer(qaoa)\n",
    "qaoa_result = qaoa_solver.solve(qubo)\n",
    "print(qaoa_result.prettyprint())\n"
   ]
  },
  {
   "cell_type": "markdown",
   "id": "efbf5290-4b8b-4d86-b900-5e59b8a3f7ba",
   "metadata": {},
   "source": [
    "## Linear Binary Optimization Problem example\n",
    "\n",
    "In this example, we will solve an instance of a Linear Binary Optimization problem: the **Knapsack** problem.\n",
    "\n",
    "As a reminder, this problem deals with a list of objects $i = 1, ..., n$, each with a weight $W_i$ and a value $C_i$.\n",
    "\n",
    "The objective is to select a subset of objects, such that the total weight is less or equal to a limit W, yet maximizing the total value.\n",
    "\n",
    "Let the binary variables $x_i$ indicate if object $i$ is selected ($x_i = 1$).\n",
    "\n",
    "We wish to minimize: \n",
    "\n",
    "$-\\sum_{i=1}^{n} C_i x_i$ \n",
    "\n",
    "with the constraint: \n",
    "\n",
    "$\\sum_{i=1}^{n} W_i x_i \\leq W$ \n",
    "\n",
    "$x_i \\in {0,1}$ "
   ]
  },
  {
   "cell_type": "markdown",
   "id": "fa4fc76d-6893-4763-a414-bb161c15ec61",
   "metadata": {
    "editable": true,
    "raw_mimetype": "",
    "slideshow": {
     "slide_type": ""
    },
    "tags": []
   },
   "source": [
    "For example, let's consider the following instance:\n",
    "\n",
    "Minimize: $-5 x_1 - 3 x_2 - 4 x_3$\n",
    "\n",
    "Under the constraint:\n",
    "\n",
    "$3 x_0 + x_2 + x_3 \\leq 3$\n",
    "\n",
    "This problem does not fit the QUBO formulation.\n",
    "\n",
    "To express it in a QUBO form, we: \n",
    "- rewrite the inequality constraint as an equality\n",
    "- insert this equality constraint as a penalty term (as above)\n",
    "\n",
    "To change the inequality, we add a slack binary variable(s). In this case, because we need to reach 3, we need to add 2 binary slack variables:\n",
    "\n",
    "$3 x_1 + x_2 + x_3 \\leq 3 \\Leftrightarrow  3 x_1 + x_2 + x_3 + y_1 + 2 y_2 = 3$\n",
    "\n",
    "To remove the constraint, we add the constraint expression to the objective function, with a penalty factor $P$ that avoids violating the constraint:\n",
    "\n",
    "Minimize: $-5 x_1 - 3 x_2 - 4 x_3 + P (3 x_1 + x_2 + x_3 + y_1 + 2 y_2 - 3)^2$\n",
    "\n",
    "The original objective function range is in $[-12, 0]$, so any violation of the constraint must result in a value greater than the maximum value, let's choose $P = 13$.\n"
   ]
  },
  {
   "cell_type": "code",
   "execution_count": 1,
   "id": "1ea98262-92e1-4da3-851b-f01839c7606e",
   "metadata": {},
   "outputs": [
    {
     "name": "stdout",
     "output_type": "stream",
     "text": [
      "Problem name: \n",
      "\n",
      "Minimize\n",
      "  -5*x1 - 3*x2 - 4*x3\n",
      "\n",
      "Subject to\n",
      "  Linear constraints (1)\n",
      "    3*x1 + x2 + x3 <= 3  'c0'\n",
      "\n",
      "  Binary variables (5)\n",
      "    x1 x2 x3 y1 y2\n",
      "\n"
     ]
    }
   ],
   "source": [
    "from qiskit_algorithms.utils import algorithm_globals\n",
    "from qiskit_algorithms import QAOA\n",
    "from qiskit_algorithms.optimizers import COBYLA\n",
    "from qiskit.primitives import BackendSampler\n",
    "from qiskit_optimization.algorithms import (\n",
    "    MinimumEigenOptimizer,\n",
    "    OptimizationResultStatus,\n",
    ")\n",
    "from qiskit_aer import Aer\n",
    "from qiskit_optimization import QuadraticProgram\n",
    "\n",
    "# create our QUBO for Knapsack\n",
    "qubo = QuadraticProgram()\n",
    "qubo.binary_var(\"x1\")\n",
    "qubo.binary_var(\"x2\")\n",
    "qubo.binary_var(\"x3\")\n",
    "qubo.binary_var(\"y1\")\n",
    "qubo.binary_var(\"y2\")\n",
    "qubo.minimize(linear={(\"x1\"): -5, (\"x2\"): -3, (\"x3\"): -4})\n",
    "qubo.linear_constraint(linear={\"x1\": 3, \"x2\": 1, \"x3\": 1}, sense=\"<=\", rhs=3)\n",
    "print(qubo.prettyprint())\n"
   ]
  },
  {
   "cell_type": "code",
   "execution_count": 6,
   "id": "409066e1-bbec-4d07-8d9e-23790d12d184",
   "metadata": {},
   "outputs": [
    {
     "name": "stderr",
     "output_type": "stream",
     "text": [
      "/tmp/ipykernel_7055/1819144987.py:10: DeprecationWarning: The class ``qiskit.primitives.backend_sampler.BackendSampler`` is deprecated as of qiskit 1.2. It will be removed no earlier than 3 months after the release date. All implementations of the `BaseSamplerV1` interface have been deprecated in favor of their V2 counterparts. The V2 alternative for the `BackendSampler` class is `BackendSamplerV2`.\n",
      "  qaoa = QAOA(sampler=BackendSampler(backend=simulator), optimizer=COBYLA(), reps=3)\n"
     ]
    },
    {
     "name": "stdout",
     "output_type": "stream",
     "text": [
      "objective function value: -7.0\n",
      "variable values: x1=0.0, x2=1.0, x3=1.0, y1=0.0, y2=0.0\n",
      "status: SUCCESS\n"
     ]
    }
   ],
   "source": [
    "# Set up the quantum backend\n",
    "algorithm_globals.random_seed = 142\n",
    "simulator = Aer.get_backend(\"aer_simulator\")\n",
    "simulator.set_options(\n",
    "    max_parallel_threads=128,  # Use multiple threads\n",
    ")\n",
    "# Define the QAOA solver\n",
    "qaoa = QAOA(sampler=BackendSampler(backend=simulator), optimizer=COBYLA(), reps=3)\n",
    "qaoa_solver = MinimumEigenOptimizer(qaoa)\n",
    "qaoa_result = qaoa_solver.solve(qubo)\n",
    "print(qaoa_result.prettyprint())\n"
   ]
  },
  {
   "cell_type": "markdown",
   "id": "7d3e65ed-5c05-44e1-9243-d3ebd9e2cbb2",
   "metadata": {},
   "source": [
    "## **QUBO for Graph algorithms**\n",
    "\n",
    "Now, we will explore the following topics:\n",
    "\n",
    "- Understanding the Max-Cut problem and its relation to the Ising model\n",
    "- Transitioning to quantum methods for optimization problem formulation\n",
    "- Converting between QUBO and Ising representations\n",
    "- Applying the QUBO model to tackle combinatorial optimization challenges\n"
   ]
  },
  {
   "cell_type": "markdown",
   "id": "a8f32745-3264-4475-a4c8-9df72aaeb8fd",
   "metadata": {},
   "source": [
    "## **Graph Cut Definition**\n",
    "\n",
    "A **graph cut** is a fundamental concept in graph theory that refers to a **partition of the vertices** of a graph into two disjoint subsets, separating the graph into two parts. The set of edges that have one endpoint in each subset is called the **cut set**, and the goal of different graph cut problems is often to minimize or maximize the number (or total weight) of these edges.\n",
    "\n",
    "### **Formal Definition**\n",
    "Given an **undirected graph** $ G = (V, E) $, where $ V $ is the set of vertices and $ E $ is the set of edges, a **cut** is defined by a partition of $ V $ into two disjoint subsets $ S $ and $ \\bar{S} $ such that:\n",
    "- $ S \\cup \\bar{S} = V $\n",
    "- $ S \\cap \\bar{S} = \\emptyset $\n",
    "\n",
    "The **cut-set** consists of all edges that have **one endpoint in $ S $ and the other in $ \\bar{S} $**:\n",
    "$$\n",
    "\\text{Cut}(S, \\bar{S}) = \\{ (u, v) \\in E \\mid u \\in S, v \\in \\bar{S} \\}\n",
    "$$"
   ]
  },
  {
   "cell_type": "code",
   "execution_count": 2,
   "id": "f4984f1c-84b0-4372-9de8-2feb7270b9a0",
   "metadata": {},
   "outputs": [
    {
     "data": {
      "image/png": "[encoded data removed]",
      "text/plain": [
       "<Figure size 1800x600 with 3 Axes>"
      ]
     },
     "metadata": {},
     "output_type": "display_data"
    }
   ],
   "source": [
    "import matplotlib\n",
    "%matplotlib inline\n",
    "import networkx as nx\n",
    "import matplotlib.pyplot as plt\n",
    "import random\n",
    "\n",
    "\n",
    "def random_cut_partition(graph):\n",
    "    \"\"\"Find a random partition for the Max-Cut problem.\"\"\"\n",
    "    partition = {}\n",
    "    for node in graph.nodes():\n",
    "        partition[node] = random.choice([0, 1])  # Randomly assign to one of two sets\n",
    "    return partition\n",
    "\n",
    "def plot_max_cut(graph, partition,ax):\n",
    "    \"\"\"Visualize the Max-Cut solution with colored nodes and dashed edges between cuts.\"\"\"\n",
    "    colors = ['red' if partition[node] == 0 else 'green' for node in graph.nodes()]\n",
    "    pos = {(x,y):(y,-x) for x,y in graph.nodes()}\n",
    "    \n",
    "    # Identify edges that cross the cut\n",
    "    cut_edges = [(u, v) for u, v in graph.edges() if partition[u] != partition[v]]\n",
    "    same_set_edges = [(u, v) for u, v in graph.edges() if partition[u] == partition[v]]\n",
    "    \n",
    "  \n",
    "    nx.draw(graph, pos, with_labels=True, node_color=colors, edge_color='gray', node_size=400, font_size=8,ax=ax)\n",
    "    nx.draw_networkx_edges(graph, pos, edgelist=cut_edges, style='dashed', edge_color='black', width=2,ax=ax)\n",
    "    nx.draw_networkx_edges(graph, pos, edgelist=same_set_edges, edge_color='gray', width=1,ax=ax)\n",
    "    \n",
    "    ax.set_title(f\"Max-Cut with size {len(cut_edges)}\")\n",
    "\n",
    "\n",
    "# Create a simple 5-node graph\n",
    "G = nx.grid_2d_graph(3,3)\n",
    "\n",
    "fig, axes = plt.subplots(1, 3, figsize=(18, 6))\n",
    "# Plot the graph with Max-Cut coloring\n",
    "for i in range(len(axes)):\n",
    "    plot_max_cut(G, random_cut_partition(G),axes[i])\n",
    "plt.show()"
   ]
  },
  {
   "cell_type": "markdown",
   "id": "d13e9528-0cc5-4fc5-bdf3-7f4457e8cc4d",
   "metadata": {},
   "source": [
    "## **Max-Cut Problem Formulation**\n",
    "\n",
    "The **Max-Cut problem** is a fundamental problem in graph theory and combinatorial optimization. Given an **undirected graph** $ G = (V, E) $, where $ V $ is the set of vertices and $ E $ is the set of edges, the goal is to find a partition of the vertex set into two subsets $ S $ and $ \\bar{S} $ that **maximizes the number (or total weight) of edges** that cross between the two subsets.\n",
    "\n",
    "### **Mathematical Formulation**\n",
    "Let:\n",
    "- $ x_i $ be a binary decision variable for each vertex $ i $, where:\n",
    "  $$\n",
    "  x_i =\n",
    "  \\begin{cases}\n",
    "  1, & \\text{if node } i \\text{ is in subset } S \\\\\n",
    "  0, & \\text{if node } i \\text{ is in subset } \\bar{S}\n",
    "  \\end{cases}\n",
    "  $$\n",
    "- Each edge $ (i, j) \\in E $ contributes to the cut **if and only if** its endpoints are in different subsets, meaning $ x_i \\neq x_j $.\n",
    "\n",
    "The **Max-Cut objective function** is given by:\n",
    "$$\n",
    "\\max \\sum_{(i, j) \\in E} w_{ij} (x_i \\oplus x_j)\n",
    "$$\n",
    "where:\n",
    "- $ w_{ij} $ is the weight of edge $ (i, j) $ (assumed 1 in the unweighted case).\n",
    "- $ \\oplus $ represents the **XOR** operation, which equals 1 if $ x_i \\neq x_j $ (i.e., the edge is cut).\n",
    "\n",
    "\n"
   ]
  },
  {
   "cell_type": "markdown",
   "id": "a935b7dc-cbd0-47ba-9884-8cc58c821f66",
   "metadata": {},
   "source": [
    "### **Reformulation in Terms of the Ising Model**\n",
    "To solve the Max-Cut problem using **quantum optimization**, we express it in terms of spin variables:\n",
    "- Define $ s_i $ as a spin variable taking values in $ \\{-1, +1\\} $, where:\n",
    "  $$\n",
    "  s_i = 2x_i - 1\n",
    "  $$\n",
    "- The Max-Cut objective function can then be rewritten as:\n",
    "  $$\n",
    "  \\max \\frac{1}{2} \\sum_{(i, j) \\in E} w_{ij} (1 - s_i s_j)\n",
    "  $$\n",
    "  Since minimizing $ s_i s_j $ encourages opposite spins (partitioning nodes into different sets), this formulation maps directly to the **Ising model**.\n"
   ]
  },
  {
   "cell_type": "markdown",
   "id": "8e43fa61-1441-42ab-9b15-e6af04071875",
   "metadata": {},
   "source": [
    "### **Quadratic Unconstrained Binary Optimization (QUBO) Formulation**\n",
    "Since QUBO problems use binary variables $ x_i \\in \\{0,1\\} $, we express Max-Cut as:\n",
    "$$\n",
    "\\max \\sum_{(i, j) \\in E} w_{ij} (x_i + x_j - 2x_i x_j)\n",
    "$$\n",
    "which is a **quadratic** function of binary variables.\n",
    "\n",
    "This formulation enables solving Max-Cut using classical and quantum optimization techniques, such as **QAOA (Quantum Approximate Optimization Algorithm)** and **Simulated Annealing**.\n"
   ]
  },
  {
   "cell_type": "code",
   "execution_count": null,
   "id": "9825ce1f-8336-4ade-9a3e-dac88e1a7946",
   "metadata": {},
   "outputs": [],
   "source": [
    "from qiskit_optimization import QuadraticProgram\n",
    "from qiskit_algorithms import NumPyMinimumEigensolver\n",
    "from qiskit_optimization.algorithms import (\n",
    "    MinimumEigenOptimizer,\n",
    "    RecursiveMinimumEigenOptimizer,\n",
    "    SolutionSample,\n",
    "    OptimizationResultStatus,\n",
    ")\n",
    "# create a QUBO for the unweighted MaxCut\n",
    "qubo = QuadraticProgram()\n",
    "linear={}\n",
    "quadratic={}\n",
    "for u in G.nodes():\n",
    "    linear[str(u)] = 0\n",
    "    qubo.binary_var(str(u))\n",
    "for u,v in G.edges():\n",
    "    linear[str(u)] += -1\n",
    "    linear[str(v)] += -1\n",
    "    quadratic[(str(u),str(v))]= 2\n",
    "qubo.minimize(linear=linear, quadratic=quadratic)\n",
    "print(qubo.prettyprint())"
   ]
  },
  {
   "cell_type": "code",
   "execution_count": null,
   "id": "1bce8259-0b0c-46b5-b704-c58172edd990",
   "metadata": {},
   "outputs": [],
   "source": [
    "exact_mes = NumPyMinimumEigensolver()\n",
    "exact = MinimumEigenOptimizer(exact_mes)  # using the exact classical numpy minimum eigen solver\n",
    "exact_result = exact.solve(qubo)\n",
    "print(exact_result.prettyprint())"
   ]
  },
  {
   "cell_type": "code",
   "execution_count": null,
   "id": "b259b318-2f93-443c-91c7-78fd6576fd2c",
   "metadata": {},
   "outputs": [],
   "source": [
    "fig, axes = plt.subplots(1, 1, figsize=(18, 6))\n",
    "partition = {node : int(exact_result.x[i]) for i,node in enumerate(G.nodes())  }\n",
    "print(partition)\n",
    "plot_max_cut(G, partition,ax=axes)\n",
    "plt.show()"
   ]
  },
  {
   "cell_type": "markdown",
   "id": "f46f4ce4-1e1f-45eb-91bc-ffe3c1d313da",
   "metadata": {},
   "source": [
    "# QAOA: Quantum Approximate Optimization Algorithm"
   ]
  },
  {
   "cell_type": "code",
   "execution_count": null,
   "id": "3f1dad24-72bd-4d82-b958-168529e11e06",
   "metadata": {},
   "outputs": [],
   "source": [
    "from qiskit_algorithms.utils import algorithm_globals\n",
    "from qiskit_algorithms import QAOA\n",
    "from qiskit_algorithms.optimizers import COBYLA\n",
    "from qiskit.primitives import Sampler\n",
    "\n",
    "algorithm_globals.random_seed = 10598\n",
    "qaoa_mes = QAOA(sampler=Sampler(), optimizer=COBYLA())"
   ]
  },
  {
   "cell_type": "code",
   "execution_count": null,
   "id": "59725d51-cd77-40ee-8cc8-6d7519b4d01e",
   "metadata": {},
   "outputs": [],
   "source": [
    "qaoa = MinimumEigenOptimizer(qaoa_mes)\n",
    "qaoa_result = qaoa.solve(qubo)\n",
    "print(qaoa_result.prettyprint())"
   ]
  },
  {
   "cell_type": "code",
   "execution_count": null,
   "id": "f07df7c0-d1f1-44de-b760-67fe1d1220ac",
   "metadata": {},
   "outputs": [],
   "source": [
    "fig, axes = plt.subplots(1, 1, figsize=(18, 6))\n",
    "partition = {node : int(qaoa_result.x[i]) for i,node in enumerate(G.nodes())  }\n",
    "print(partition)\n",
    "plot_max_cut(G, partition,ax=axes)\n",
    "plt.show()"
   ]
  },
  {
   "cell_type": "markdown",
   "id": "6c7c5455-ee95-46f2-9092-4091f5b3035f",
   "metadata": {},
   "source": [
    "## **Analysis of Solution Samples**\n",
    "\n",
    "The `OptimizationResult` object provides valuable insights through `SolutionSample`s (referred to as *samples* in this context). Each `SolutionSample` contains key information, including:\n",
    "\n",
    "- **Input values (`x`)**: The specific variable assignment corresponding to the solution.\n",
    "- **Objective function value (`fval`)**: The computed objective value for the given input.\n",
    "- **Sample frequency (`probability`)**: The fraction of total samples that correspond to this particular solution.\n",
    "- **Solution status (`status`)**: A classification indicating whether the solution is `SUCCESS`, `FAILURE`, or `INFEASIBLE`.\n",
    "\n",
    "When multiple samples share the same input configuration, they are consolidated into a single `SolutionSample`. In such cases, the `probability` attribute reflects the aggregated proportion of occurrences for that particular solution. This structured representation allows for an efficient evaluation of optimization results, particularly in probabilistic and quantum computing scenarios."
   ]
  },
  {
   "cell_type": "code",
   "execution_count": null,
   "id": "69e4f7fb-b89d-49d4-badb-3e3beda8c062",
   "metadata": {},
   "outputs": [],
   "source": [
    "print(\"variable order:\", [var.name for var in qaoa_result.variables])\n",
    "for s in qaoa_result.samples:\n",
    "    print(s)"
   ]
  },
  {
   "cell_type": "markdown",
   "id": "d3846eb8-4a0b-4eb7-9304-07abbc0e8da2",
   "metadata": {},
   "source": [
    "# Practical example: The Travelling Salesman Problem (TSP)"
   ]
  },
  {
   "cell_type": "code",
   "execution_count": null,
   "id": "2cd76a65-52a6-4d09-8931-a9eab93f25f4",
   "metadata": {},
   "outputs": [],
   "source": [
    "import numpy as np\n",
    "import networkx as nx\n",
    "from qiskit_aer import Aer\n",
    "from qiskit_algorithms.utils import algorithm_globals\n",
    "from qiskit_algorithms import QAOA\n",
    "from qiskit_algorithms.optimizers import COBYLA\n",
    "from qiskit_optimization.applications import Tsp\n",
    "from qiskit_optimization.converters import QuadraticProgramToQubo\n",
    "from qiskit_optimization.algorithms import MinimumEigenOptimizer\n",
    "from qiskit.primitives import BackendSampler\n",
    "\n",
    "\n",
    "\n",
    "# Create a TSP problem with 4 cities\n",
    "num_cities = 5\n",
    "adjacency_matrix = np.random.randint(1, 10, size=(num_cities, num_cities))\n",
    "np.fill_diagonal(adjacency_matrix, 0)  # No self-loops\n",
    "\n",
    "# Create a graph representation of the TSP\n",
    "tsp = Tsp(adjacency_matrix)\n",
    "qp = tsp.to_quadratic_program()\n",
    "qubo = QuadraticProgramToQubo().convert(qp)\n",
    "print(qubo.prettyprint())\n",
    "\n",
    "# Set up the quantum backend\n",
    "algorithm_globals.massive = True \n",
    "algorithm_globals.random_seed = 42\n",
    "simulator = Aer.get_backend(\"aer_simulator\")\n",
    "simulator.set_options(\n",
    "    max_parallel_threads=128,  # Use multiple threads\n",
    ")\n",
    "# Define the QAOA solver\n",
    "qaoa = QAOA(sampler=BackendSampler(backend=simulator), optimizer=COBYLA(), reps=3)\n",
    "qaoa_solver = MinimumEigenOptimizer(qaoa)\n",
    "\n",
    "# Solve the TSP problem using QAOA\n",
    "result = qaoa_solver.solve(qubo)"
   ]
  },
  {
   "cell_type": "code",
   "execution_count": null,
   "id": "ddce56c8-0bdd-486b-adb0-773ea4e367d5",
   "metadata": {},
   "outputs": [],
   "source": [
    "# Display results\n",
    "print(\"Optimal Route:\", tsp.interpret(result))\n",
    "print(\"Optimal Cost:\", result.fval)\n",
    "\n",
    "# Draw the TSP graph\n",
    "import matplotlib.pyplot as plt\n",
    "\n",
    "G = nx.from_numpy_array(adjacency_matrix)\n",
    "pos = nx.spring_layout(G)\n",
    "labels = {i: f\"City {i}\" for i in range(num_cities)}\n",
    "\n",
    "plt.figure(figsize=(6, 6))\n",
    "nx.draw(G, pos, with_labels=True, labels=labels, node_color=\"lightblue\", edge_color=\"gray\")\n",
    "edge_labels = {(i, j): adjacency_matrix[i, j] for i, j in G.edges()}\n",
    "nx.draw_networkx_edge_labels(G, pos, edge_labels=edge_labels)\n",
    "plt.title(\"TSP Graph\")\n",
    "plt.show()"
   ]
  },
  {
   "cell_type": "code",
   "execution_count": null,
   "id": "d96066c4-e862-441a-b4a0-cf45ff9ce8d5",
   "metadata": {},
   "outputs": [],
   "source": []
  }
 ],
 "metadata": {
  "kernelspec": {
   "display_name": "Python 3 (ipykernel)",
   "language": "python",
   "name": "python3"
  },
  "language_info": {
   "codemirror_mode": {
    "name": "ipython",
    "version": 3
   },
   "file_extension": ".py",
   "mimetype": "text/x-python",
   "name": "python",
   "nbconvert_exporter": "python",
   "pygments_lexer": "ipython3",
   "version": "3.12.3"
  }
 },
 "nbformat": 4,
 "nbformat_minor": 5
}
