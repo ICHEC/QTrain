{
 "cells": [
  {
   "cell_type": "markdown",
   "id": "578947dd",
   "metadata": {},
   "source": [
    "## Finding the ground state of a molecule via VQE"
   ]
  },
  {
   "cell_type": "markdown",
   "id": "14d2385a",
   "metadata": {},
   "source": [
    "Based on example from https://github.com/qiskit-community/qiskit-nature-pyscf"
   ]
  },
  {
   "cell_type": "markdown",
   "id": "8acfcb40",
   "metadata": {},
   "source": [
    "In this notebook, we investigate the ground-state electronic structure of the lithium hydride (LiH) molecule using both classical and quantum computational methods. Traditional quantum chemistry approaches, such as the Hartree-Fock (HF) and Full Configuration Interaction (FCI) methods, provide accurate results for this small molecule, but quickly become too computationally expensive as the number of orbitals increases for larger molecules. To explore the potential of quantum computing in this domain, we employ the Variational Quantum Eigensolver (VQE) with a Unitary Coupled Cluster (UCCSD) ansatz, using Qiskit. By comparing the computed ground-state energies from HF, FCI, and VQE across different bond lengths, we assess the accuracy and feasibility of hybrid quantum-classical simulations for molecular electronic structure problems."
   ]
  },
  {
   "cell_type": "code",
   "execution_count": 1,
   "id": "291b410d-62ff-4b70-bf0c-8990d3157848",
   "metadata": {},
   "outputs": [],
   "source": [
    "from pyscf import gto, scf, mcscf, fci # pyscf = (classical) python-based simulations of chemistry framework\n",
    "\n",
    "# gto.M defines molecular geometry & basis set\n",
    "# scf.RHF restricted Hartree-Fock\n",
    "# mcscf.CASCI complete active space configuration interaction\n",
    "\n",
    "import numpy as np\n",
    "import matplotlib.pyplot as plt\n",
    "\n",
    "from qiskit.primitives import Estimator # expectation values\n",
    "from qiskit_algorithms import VQE\n",
    "from qiskit_algorithms.optimizers import SLSQP\n",
    "from qiskit_nature.second_q.algorithms import GroundStateEigensolver\n",
    "from qiskit_nature.second_q.circuit.library import HartreeFock, UCCSD\n",
    "from qiskit_nature.second_q.mappers import ParityMapper\n",
    "\n",
    "from qiskit_nature_pyscf import QiskitSolver"
   ]
  },
  {
   "cell_type": "code",
   "execution_count": 2,
   "id": "06c9a0f2-4eb0-4cda-b1b0-785023947a2d",
   "metadata": {},
   "outputs": [],
   "source": [
    "def create_molecule(bond_length):\n",
    "    \"\"\" Function to create a LiH molecule given a bond length\"\"\"\n",
    "    return gto.M(\n",
    "        atom=f\"Li 0 0 0; H 0 0 {bond_length}\", basis=\"sto-3g\"\n",
    "    ) "
   ]
  },
  {
   "cell_type": "code",
   "execution_count": 3,
   "id": "a3fd1642-3f87-4d3d-a884-5840db9b68a3",
   "metadata": {},
   "outputs": [],
   "source": [
    "# LiH molecule created with STO-3G basis set\n",
    "# Li positioned at (0,0,0), H at (0,0,1.6) atomic units\n",
    "mol = create_molecule(1.6)"
   ]
  },
  {
   "cell_type": "code",
   "execution_count": 4,
   "id": "09b72736-eede-4c14-9c4e-84b30aaee192",
   "metadata": {},
   "outputs": [],
   "source": [
    "# Define constants\n",
    "norb = 5 # Number of active orbitals\n",
    "nalpha, nbeta = 1, 1 # One alpha (spin up) and one beta (spin down) electron\n",
    "nelec = nalpha + nbeta # Two valence electrons total"
   ]
  },
  {
   "cell_type": "code",
   "execution_count": 5,
   "id": "cb5a395a-c76a-4e75-88c4-2487aeede7f4",
   "metadata": {},
   "outputs": [
    {
     "name": "stdout",
     "output_type": "stream",
     "text": [
      "converged SCF energy = -7.86186476980865\n"
     ]
    }
   ],
   "source": [
    "# runs Restricted Hartree-Fock to get molecular orbitals and reference (HF) energy (from mean-field approx)\n",
    "h_f = scf.RHF(mol).run()\n",
    "energy_hf = h_f.e_tot"
   ]
  },
  {
   "cell_type": "code",
   "execution_count": null,
   "id": "aabc3ec4-5c66-4610-b646-7fb2cb504992",
   "metadata": {},
   "outputs": [],
   "source": [
    "def run_vqe(h_f):\n",
    "    \"\"\"prepare a quantum computing-based method to solve the electronic structure problem.\"\"\"\n",
    "    mapper = ParityMapper(num_particles=(nalpha, nbeta))\n",
    "    # maps the fermionic Hamiltonian to a qubit Hamiltonian\n",
    "    # dual of Jordan-Wigner mapping\n",
    "    # allows to reduce no. of qubits in certain cases\n",
    "    \n",
    "    ansatz = UCCSD( # Unitary Coupled Cluster with Single and Double excitations (trial wavefunction)\n",
    "        norb,\n",
    "        (nalpha, nbeta),\n",
    "        mapper,\n",
    "        initial_state=HartreeFock(\n",
    "            norb,\n",
    "            (nalpha, nbeta),\n",
    "            mapper,\n",
    "        ),\n",
    "    )\n",
    "    # list of predefined  ansatzes: https://qiskit-community.github.io/qiskit-nature/apidocs/qiskit_nature.second_q.circuit.library.html\n",
    "    \n",
    "    vqe = VQE(Estimator(), ansatz, SLSQP()) \n",
    "    # to minimise the ground-state energy using classical Sequential Least Squares Programming optimisation\n",
    "    # list of optimizers: https://qiskit-community.github.io/qiskit-algorithms/apidocs/qiskit_algorithms.optimizers.html\n",
    "    \n",
    "    vqe.initial_point = np.zeros(ansatz.num_parameters)\n",
    "    \n",
    "    algorithm = GroundStateEigensolver(mapper, vqe)\n",
    "\n",
    "    cas = mcscf.CASCI(h_f, norb, nelec) # selects active orbitals and electrons\n",
    "    cas.fcisolver = QiskitSolver(algorithm)\n",
    "    #replaces the default FCI solver in PySCF with the VQE-based quantum solver\n",
    "    \n",
    "    cas.run()\n",
    "    return cas.e_tot"
   ]
  },
  {
   "cell_type": "code",
   "execution_count": 7,
   "id": "5c996910-e37d-4e28-a3e8-bd35b2256170",
   "metadata": {},
   "outputs": [
    {
     "name": "stderr",
     "output_type": "stream",
     "text": [
      "/var/folders/x9/wfb287qn00v442vdfjd74t680000gq/T/ipykernel_7263/2233199785.py:19: DeprecationWarning: The class ``qiskit.primitives.estimator.Estimator`` is deprecated as of qiskit 1.2. It will be removed no earlier than 3 months after the release date. All implementations of the `BaseEstimatorV1` interface have been deprecated in favor of their V2 counterparts. The V2 alternative for the `Estimator` class is `StatevectorEstimator`.\n",
      "  vqe = VQE(Estimator(), ansatz, SLSQP())\n"
     ]
    },
    {
     "name": "stdout",
     "output_type": "stream",
     "text": [
      "CASCI E = -7.88209648910108  E(CI) = -1.07808419079903\n"
     ]
    }
   ],
   "source": [
    "energy_vqe = run_vqe(h_f)"
   ]
  },
  {
   "cell_type": "code",
   "execution_count": 8,
   "id": "c85440fb-82d8-46fd-bd08-e6e75cac9d91",
   "metadata": {},
   "outputs": [],
   "source": [
    "def run_fci(h_f):\n",
    "    \"\"\"run a fci calculation for a benchmark\"\"\"\n",
    "    cisolver = fci.FCI(h_f)\n",
    "    cisolver = cisolver.run()\n",
    "    return cisolver.e_tot"
   ]
  },
  {
   "cell_type": "code",
   "execution_count": 9,
   "id": "416db74f-ec6e-4b3c-92d1-8b0fb9d828fc",
   "metadata": {},
   "outputs": [],
   "source": [
    "energy_fci = run_fci(h_f)"
   ]
  },
  {
   "cell_type": "code",
   "execution_count": 10,
   "id": "82388417-a49a-4946-a7c2-f1397ab88177",
   "metadata": {},
   "outputs": [
    {
     "name": "stdout",
     "output_type": "stream",
     "text": [
      "VQE Energy: -7.8820964891010785\n",
      "FCI Energy: -7.882324378883491\n"
     ]
    }
   ],
   "source": [
    "# Comparison of methods\n",
    "print(\"VQE Energy:\", energy_vqe)\n",
    "print(\"FCI Energy:\", energy_fci)"
   ]
  },
  {
   "cell_type": "markdown",
   "id": "6c5ed50b",
   "metadata": {},
   "source": [
    "## Output\n",
    "\n",
    "Converged SCF energy = Hartree-Fock energy, in Hartrees, from mean-field approximation, ignoring electron correlation.\n",
    "\n",
    "CASCI E = Complete Active Space Configuration Interaction (CASCI) energy.\n",
    "CASCI improves upon HF by allowing a full CI expansion within the active space (selected orbitals/electrons).\n",
    "Since CASCI includes static correlation effects, it should always be lower (more negative) than the SCF energy."
   ]
  },
  {
   "cell_type": "markdown",
   "id": "7a9cade5-c9ea-441a-b68c-f827e45fad11",
   "metadata": {},
   "source": [
    "## Bond stretching workflow"
   ]
  },
  {
   "cell_type": "code",
   "execution_count": 11,
   "id": "938735b5-e36c-48c8-bc91-069c83da0dc1",
   "metadata": {},
   "outputs": [
    {
     "name": "stdout",
     "output_type": "stream",
     "text": [
      "converged SCF energy = -7.86053866102113\n"
     ]
    },
    {
     "name": "stderr",
     "output_type": "stream",
     "text": [
      "/var/folders/x9/wfb287qn00v442vdfjd74t680000gq/T/ipykernel_7263/2233199785.py:19: DeprecationWarning: The class ``qiskit.primitives.estimator.Estimator`` is deprecated as of qiskit 1.2. It will be removed no earlier than 3 months after the release date. All implementations of the `BaseEstimatorV1` interface have been deprecated in favor of their V2 counterparts. The V2 alternative for the `Estimator` class is `StatevectorEstimator`.\n",
      "  vqe = VQE(Estimator(), ansatz, SLSQP())\n"
     ]
    },
    {
     "name": "stdout",
     "output_type": "stream",
     "text": [
      "CASCI E = -7.87823057504728  E(CI) = -1.12139025732304\n",
      "converged SCF energy = -7.86335762153511\n",
      "CASCI E = -7.88213985596634  E(CI) = -1.10018822901209\n",
      "converged SCF energy = -7.86186476980865\n",
      "CASCI E = -7.88209648945639  E(CI) = -1.07808419115435\n",
      "converged SCF energy = -7.85714496020382\n",
      "CASCI E = -7.87919778061036  E(CI) = -1.05567495818886\n"
     ]
    }
   ],
   "source": [
    "bond_lengths = np.linspace(1.4, 1.7, 4)\n",
    "\n",
    "h_f_energies = []\n",
    "vqe_energies = []\n",
    "fci_energies = []\n",
    "\n",
    "for bond_length in bond_lengths:\n",
    "    mol = create_molecule(bond_length)\n",
    "    h_f = scf.RHF(mol).run()\n",
    "    h_f_energies.append(h_f.e_tot)\n",
    "    vqe_energies.append(run_vqe(h_f))\n",
    "    fci_energies.append(run_fci(h_f))\n",
    "    "
   ]
  },
  {
   "cell_type": "code",
   "execution_count": 12,
   "id": "87088689-9559-4312-a1fa-726fe1d28529",
   "metadata": {},
   "outputs": [
    {
     "data": {
      "image/png": "[encoded data removed]",
      "text/plain": [
       "<Figure size 640x480 with 1 Axes>"
      ]
     },
     "metadata": {},
     "output_type": "display_data"
    }
   ],
   "source": [
    "plt.plot(bond_lengths, h_f_energies, label=\"HF\")\n",
    "plt.plot(bond_lengths, vqe_energies, label=\"VQE\")\n",
    "plt.plot(bond_lengths, fci_energies, label=\"FCI\")\n",
    "plt.xlabel(\"Bond Length (au)\")\n",
    "plt.ylabel(\"Energy (Hartrees)\")\n",
    "plt.legend()\n",
    "plt.show()"
   ]
  },
  {
   "cell_type": "code",
   "execution_count": null,
   "id": "e937f2a4",
   "metadata": {},
   "outputs": [],
   "source": []
  }
 ],
 "metadata": {
  "kernelspec": {
   "display_name": "qiskit",
   "language": "python",
   "name": "python3"
  },
  "language_info": {
   "codemirror_mode": {
    "name": "ipython",
    "version": 3
   },
   "file_extension": ".py",
   "mimetype": "text/x-python",
   "name": "python",
   "nbconvert_exporter": "python",
   "pygments_lexer": "ipython3",
   "version": "3.12.9"
  }
 },
 "nbformat": 4,
 "nbformat_minor": 5
}
