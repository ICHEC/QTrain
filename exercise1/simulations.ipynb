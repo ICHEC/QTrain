{
 "cells": [
  {
   "cell_type": "markdown",
   "metadata": {},
   "source": [
    "# Simulation of Lattice model\n",
    "\n",
    "In condensed matter physics and material science, lattice models are usually described as a (sometimes overly) simplified version of real materials to understand some key aspect of their character, while ignoring the others.\n",
    "\n",
    "Real materials consist of atoms and associated electrons. The atoms can be arranged in regular pattern to form lattice, or random. The electrons may be tightly bound to their atoms like in an insulator, or delocalised in the entire region like a metal.\n",
    "Depending on what one wants to study, one makes simplifying assumptions, and constructs a model.\n",
    "\n",
    "## The model\n",
    "For example, If one is studying magnetism in an insulator, then one knows that the electrons are tightly bound to an atom and have very little movement. So if we assume electrons movement completely frosen to the atomic site, they behave like a spin.\n",
    "**Heisenberg model** is such a model, where atomic locations are assumed to be in a periodic lattice, and at each site there exists one spin. This spin in general, can represent collection of all the frozen electrons.\n",
    "The model is defined in terms of its energy, or Hamiltoniain, and a quantum mechanical model is defined in terms of the energy, or Hamiltonian operator -\n",
    "\n",
    "$$\n",
    "H = \\sum_{i, j} J_{ij} {\\bf S_i}\\cdot{\\bf S_j}\n",
    "$$\n",
    "\n",
    "where ${\\bf S_i} = (S_i^x, S_i^y, S_iz)$ is the spin operator for the lattice site labelled ${\\bf i}$. The total energy is seen as sum of the dot products of different spins, scaled by the `coupling` energies $J_{ij}$.\n",
    "A simple and relatable situation is that this coupling is very weak for the sites that are far away, so one can take another assumption that they are zero beyong nearest neighbours.\n",
    "\n",
    "\n",
    "## The task\n",
    "\n",
    "The simplest task one wants to know, is what is the ground state of this system, i.e., lowest energy eigenvalue, and eigenstate."
   ]
  },
  {
   "cell_type": "code",
   "execution_count": 1,
   "metadata": {},
   "outputs": [],
   "source": [
    "import qiskit\n",
    "import qiskit_nature as qsn\n",
    "import matplotlib.pyplot as plt"
   ]
  },
  {
   "cell_type": "code",
   "execution_count": 2,
   "metadata": {},
   "outputs": [],
   "source": [
    "# import these utterly randomly located components from the module's zoo!\n",
    "\n",
    "from qiskit_nature.second_q.hamiltonians import heisenberg_model                      # class for Heisenberg model\n",
    "from qiskit_nature.second_q.hamiltonians.lattices import Lattice, line_lattice        # class for lattice\n",
    "from qiskit_nature.second_q.hamiltonians.lattice_model import LatticeModel            # class for lattice model\n",
    "bc = line_lattice.BoundaryCondition.PERIODIC"
   ]
  },
  {
   "cell_type": "markdown",
   "metadata": {},
   "source": [
    "Following is a visual of a one dimensional lattice with $N$ sites, with periodic boundary condition."
   ]
  },
  {
   "cell_type": "code",
   "execution_count": 5,
   "metadata": {},
   "outputs": [
    {
     "data": {
      "image/png": "[encoded data removed]",
      "text/plain": [
       "<Figure size 640x480 with 1 Axes>"
      ]
     },
     "metadata": {},
     "output_type": "display_data"
    }
   ],
   "source": [
    "# define a 1d lattice\n",
    "N = 6\n",
    "line = line_lattice.LineLattice(N, boundary_condition=bc)\n",
    "line.draw()"
   ]
  },
  {
   "cell_type": "code",
   "execution_count": 6,
   "metadata": {},
   "outputs": [
    {
     "data": {
      "text/plain": [
       "(True, True)"
      ]
     },
     "execution_count": 6,
     "metadata": {},
     "output_type": "execute_result"
    }
   ],
   "source": [
    "heisenberg_model.Lattice is Lattice, heisenberg_model.LatticeModel is LatticeModel"
   ]
  },
  {
   "cell_type": "code",
   "execution_count": 7,
   "metadata": {},
   "outputs": [
    {
     "data": {
      "text/plain": [
       "<matplotlib.colorbar.Colorbar at 0x1680d2870>"
      ]
     },
     "execution_count": 7,
     "metadata": {},
     "output_type": "execute_result"
    },
    {
     "data": {
      "image/png": "[encoded data removed]",
      "text/plain": [
       "<Figure size 640x480 with 2 Axes>"
      ]
     },
     "metadata": {},
     "output_type": "display_data"
    }
   ],
   "source": [
    "plt.imshow(line.to_adjacency_matrix(), origin='upper', cmap='bwr', vmin=-1, vmax=1);plt.colorbar()"
   ]
  },
  {
   "cell_type": "code",
   "execution_count": 8,
   "metadata": {},
   "outputs": [],
   "source": [
    "heisen = heisenberg_model.HeisenbergModel(line)"
   ]
  },
  {
   "cell_type": "code",
   "execution_count": 9,
   "metadata": {},
   "outputs": [
    {
     "data": {
      "text/plain": [
       "(1.0, 1.0, 1.0)"
      ]
     },
     "execution_count": 9,
     "metadata": {},
     "output_type": "execute_result"
    }
   ],
   "source": [
    "heisen.coupling_constants"
   ]
  },
  {
   "cell_type": "code",
   "execution_count": 10,
   "metadata": {},
   "outputs": [
    {
     "data": {
      "text/plain": [
       "array([[0., 1., 0., 0., 0., 1.],\n",
       "       [1., 0., 1., 0., 0., 0.],\n",
       "       [0., 1., 0., 1., 0., 0.],\n",
       "       [0., 0., 1., 0., 1., 0.],\n",
       "       [0., 0., 0., 1., 0., 1.],\n",
       "       [1., 0., 0., 0., 1., 0.]])"
      ]
     },
     "execution_count": 10,
     "metadata": {},
     "output_type": "execute_result"
    }
   ],
   "source": [
    "heisen.interaction_matrix().real"
   ]
  },
  {
   "cell_type": "code",
   "execution_count": 21,
   "metadata": {},
   "outputs": [
    {
     "name": "stdout",
     "output_type": "stream",
     "text": [
      "\n",
      "\n",
      "Ground state energy: -2.9999942263\n",
      "\n",
      "\n"
     ]
    },
    {
     "name": "stderr",
     "output_type": "stream",
     "text": [
      "/var/folders/kv/j_kv0grs1wj0ws9xc2h5ntjm0000gq/T/ipykernel_90916/3218488367.py:36: DeprecationWarning: The class ``qiskit.primitives.estimator.Estimator`` is deprecated as of qiskit 1.2. It will be removed no earlier than 3 months after the release date. All implementations of the `BaseEstimatorV1` interface have been deprecated in favor of their V2 counterparts. The V2 alternative for the `Estimator` class is `StatevectorEstimator`.\n",
      "  estimator = Estimator()  # Use Qiskit's new primitives\n"
     ]
    }
   ],
   "source": [
    "from qiskit.quantum_info import SparsePauliOp\n",
    "from qiskit_algorithms import VQE\n",
    "from qiskit_algorithms.optimizers import COBYLA\n",
    "from qiskit.circuit.library import EfficientSU2\n",
    "from qiskit.primitives import Estimator, StatevectorEstimator\n",
    "\n",
    "# 1. Define Hamiltonian using SparsePauliOp (new in Qiskit 1.0)\n",
    "def heisenberg_hamiltonian(N, J=1.0):\n",
    "    paulis = []\n",
    "    coeffs = []\n",
    "    for i in range(N-1):\n",
    "        # XX term\n",
    "        pauli_str = [\"I\"] * N\n",
    "        pauli_str[i] = \"X\"\n",
    "        pauli_str[i+1] = \"X\"\n",
    "        paulis.append(\"\".join(pauli_str))\n",
    "        coeffs.append(J)\n",
    "        # YY term\n",
    "        pauli_str[i] = \"Y\"\n",
    "        pauli_str[i+1] = \"Y\"\n",
    "        paulis.append(\"\".join(pauli_str))\n",
    "        coeffs.append(J)\n",
    "        # ZZ term\n",
    "        pauli_str[i] = \"Z\"\n",
    "        pauli_str[i+1] = \"Z\"\n",
    "        paulis.append(\"\".join(pauli_str))\n",
    "        coeffs.append(J)\n",
    "    return SparsePauliOp(paulis, coeffs=coeffs)\n",
    "\n",
    "# 2. Setup and run VQE\n",
    "N = 2  # Number of spins/qubits\n",
    "hamiltonian = heisenberg_hamiltonian(N)\n",
    "\n",
    "ansatz = EfficientSU2(N, reps=1)\n",
    "optimizer = COBYLA(maxiter=3000)\n",
    "estimator = Estimator()  # Use Qiskit's new primitives\n",
    "#estimator = StatevectorEstimator()  # Use Qiskit's new primitives\n",
    "\n",
    "vqe = VQE(estimator, ansatz, optimizer)\n",
    "result = vqe.compute_minimum_eigenvalue(hamiltonian)\n",
    "\n",
    "print(f\"\\n\\nGround state energy: {result.eigenvalue.real:.10f}\\n\\n\")"
   ]
  },
  {
   "cell_type": "code",
   "execution_count": 10,
   "metadata": {},
   "outputs": [],
   "source": [
    "from qiskit.quantum_info import SparsePauliOp\n",
    "from qiskit.circuit.library import EfficientSU2\n",
    "from qiskit_algorithms.optimizers import COBYLA\n",
    "from qiskit.primitives import Estimator  # V2 estimator\n",
    "import numpy as np\n",
    "\n",
    "# 1. Define Heisenberg Hamiltonian (unchanged)\n",
    "def heisenberg_hamiltonian(N, J=1.0):\n",
    "    paulis = []\n",
    "    coeffs = []\n",
    "    for i in range(N-1):\n",
    "        # XX term\n",
    "        pauli_str = [\"I\"] * N\n",
    "        pauli_str[i] = \"X\"\n",
    "        pauli_str[i+1] = \"X\"\n",
    "        paulis.append(\"\".join(pauli_str))\n",
    "        coeffs.append(J)\n",
    "        # YY term\n",
    "        pauli_str[i] = \"Y\"\n",
    "        pauli_str[i+1] = \"Y\"\n",
    "        paulis.append(\"\".join(pauli_str))\n",
    "        coeffs.append(J)\n",
    "        # ZZ term\n",
    "        pauli_str[i] = \"Z\"\n",
    "        pauli_str[i+1] = \"Z\"\n",
    "        paulis.append(\"\".join(pauli_str))\n",
    "        coeffs.append(J)\n",
    "    return SparsePauliOp(paulis, coeffs=coeffs)\n",
    "\n",
    "# 2. Setup components\n",
    "N = 2\n",
    "hamiltonian = heisenberg_hamiltonian(N)\n",
    "ansatz = EfficientSU2(N, reps=1)\n",
    "optimizer = COBYLA(maxiter=500)\n",
    "estimator = StatevectorEstimator()  # V2 primitive\n",
    "\n",
    "# 3. Manual VQE loop\n",
    "def objective_function(params):\n",
    "    # Run estimator with V2 syntax: (circuit, observable, parameters)\n",
    "    job = estimator.run([(ansatz, hamiltonian, params)])\n",
    "    return job.result()[0]\n",
    "\n",
    "initial_point = np.random.random(ansatz.num_parameters)\n",
    "#result = optimizer.minimize(objective_function, initial_point)\n",
    "\n",
    "#print(f\"Ground state energy: {result.fun:.4f}\")"
   ]
  },
  {
   "cell_type": "code",
   "execution_count": 11,
   "metadata": {},
   "outputs": [],
   "source": [
    "x = objective_function(initial_point)"
   ]
  },
  {
   "cell_type": "code",
   "execution_count": 12,
   "metadata": {},
   "outputs": [
    {
     "data": {
      "text/plain": [
       "array(0.77986856)"
      ]
     },
     "execution_count": 12,
     "metadata": {},
     "output_type": "execute_result"
    }
   ],
   "source": [
    "x.data.evs"
   ]
  },
  {
   "cell_type": "code",
   "execution_count": 15,
   "metadata": {},
   "outputs": [
    {
     "data": {
      "text/html": [
       "<pre style=\"word-wrap: normal;white-space: pre;background: #fff0;line-height: 1.1;font-family: &quot;Courier New&quot;,Courier,monospace\">     ┌────────────────────────────────────────────────────────┐\n",
       "q_0: ┤0                                                       ├\n",
       "     │  EfficientSU2(θ[0],θ[1],θ[2],θ[3],θ[4],θ[5],θ[6],θ[7]) │\n",
       "q_1: ┤1                                                       ├\n",
       "     └────────────────────────────────────────────────────────┘</pre>"
      ],
      "text/plain": [
       "     ┌────────────────────────────────────────────────────────┐\n",
       "q_0: ┤0                                                       ├\n",
       "     │  EfficientSU2(θ[0],θ[1],θ[2],θ[3],θ[4],θ[5],θ[6],θ[7]) │\n",
       "q_1: ┤1                                                       ├\n",
       "     └────────────────────────────────────────────────────────┘"
      ]
     },
     "execution_count": 15,
     "metadata": {},
     "output_type": "execute_result"
    }
   ],
   "source": [
    "qc = qiskit.QuantumCircuit(N)\n",
    "qc.compose(ansatz, inplace=True)\n",
    "qc.draw()"
   ]
  },
  {
   "cell_type": "code",
   "execution_count": null,
   "metadata": {},
   "outputs": [],
   "source": []
  }
 ],
 "metadata": {
  "kernelspec": {
   "display_name": "Python 3",
   "language": "python",
   "name": "python3"
  },
  "language_info": {
   "codemirror_mode": {
    "name": "ipython",
    "version": 3
   },
   "file_extension": ".py",
   "mimetype": "text/x-python",
   "name": "python",
   "nbconvert_exporter": "python",
   "pygments_lexer": "ipython3",
   "version": "3.12.9"
  }
 },
 "nbformat": 4,
 "nbformat_minor": 2
}
