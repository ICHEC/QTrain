{
 "cells": [
  {
   "cell_type": "markdown",
   "id": "fb1a5978-1e07-4c85-926f-6e9ace07e236",
   "metadata": {},
   "source": [
    "# Portfolio Optimization"
   ]
  },
  {
   "cell_type": "markdown",
   "id": "50620005-12a9-4f5c-bc1a-e02b44dc7c7f",
   "metadata": {},
   "source": [
    "We are given the following Cost function to minimize\n",
    "$$C(\\{x_i\\}) = \\sum_i b_i x_i  + \\sum_{ij} A_{ij} x_i x_j$$\n",
    "where $x_i \\in \\{0, 1\\}$.\n",
    "\n",
    "To Solve on a QC, we change to $x_i=(1-z_i)/2$\n",
    "$$\n",
    "\\begin{split}\n",
    "C(\\{z_i\\}) &= \\frac{1}{2} \\sum_i b_i - \\frac{1}{2} \\sum_i b_i z_i + \\frac{1}{4}\\sum_{ij} A_{ij} - \\frac{1}{4}\\sum_{ij} A_{ij} z_j  - \\frac{1}{4}\\sum_{ij} A_{ij} z_i + \\frac{1}{4}\\sum_{ij} A_{ij} z_i z_j \\\\\n",
    "&= \\frac{1}{4} \\sum_i (2b_i+A_{ii}) + \\frac{1}{4}\\sum_{ij} A_{ij} + \\frac{1}{4} \\sum_i \\left(-2 b_i  - \\sum_{j} A_{ij} - \\sum_{j} A_{ji} \\right) z_i + \\frac{1}{4}\\sum_{i \\ne j} A_{ij} z_i z_j  \\\\\n",
    "&= d + \\frac{1}{4}\\left(\\sum_i  c_i z_i + \\sum_{i \\ne j} A_{ij} z_i z_j \\right) \\\\\n",
    "\\end{split}\n",
    "$$\n",
    "\n",
    "Quantum Hamiltonian:\n",
    "$$H = \\sum_i  c_i Z_i + \\sum_{i \\ne j} A_{ij} Z_i Z_j = \\sum_i  c_i Z_i + \\sum_{i < j} (A_{ij} + A_{ji}) Z_i Z_j $$\n"
   ]
  },
  {
   "cell_type": "code",
   "execution_count": 1,
   "id": "50594c21-df6f-45ed-a115-0777138c6ef3",
   "metadata": {},
   "outputs": [],
   "source": [
    "import numpy as np\n",
    "from qiskit.circuit import QuantumCircuit, Parameter\n",
    "from qiskit.quantum_info import Statevector, Pauli, SparsePauliOp\n",
    "from qiskit.primitives import StatevectorEstimator, StatevectorSampler\n",
    "from scipy.optimize import minimize"
   ]
  },
  {
   "cell_type": "markdown",
   "id": "6d337e73-a697-4384-89d1-9e083b8d5d62",
   "metadata": {},
   "source": [
    "## Define Problem"
   ]
  },
  {
   "cell_type": "code",
   "execution_count": 2,
   "id": "b2351708-4f18-42a9-b7d9-78d43687b7f3",
   "metadata": {},
   "outputs": [],
   "source": [
    "n = 6\n",
    "b = np.random.uniform(-1, 1, (n))\n",
    "A = np.random.uniform(-1, 1, (n, n))"
   ]
  },
  {
   "cell_type": "markdown",
   "id": "69387bdf-739a-4648-853d-48220fb7b502",
   "metadata": {},
   "source": [
    "## Classial Solution"
   ]
  },
  {
   "cell_type": "code",
   "execution_count": 3,
   "id": "f7c1364b-9021-44ef-9bae-aba24fba7e7d",
   "metadata": {},
   "outputs": [],
   "source": [
    "def cost_func(x):\n",
    "    return np.sum(x * b) + np.sum(np.outer(x, x) * A)\n",
    "\n",
    "def bin_string_to_x(bin_string):\n",
    "    return np.array([int(i) for i in bin_string]) #[:, None]\n",
    "\n",
    "def int_to_cost(i_sol):\n",
    "    x = bin_string_to_x(np.binary_repr(i_sol, n))\n",
    "    return cost_func(x)"
   ]
  },
  {
   "cell_type": "code",
   "execution_count": 4,
   "id": "8d21b726-2c33-4463-95ea-b2958b5fd3c7",
   "metadata": {},
   "outputs": [
    {
     "name": "stdout",
     "output_type": "stream",
     "text": [
      "0 0.0\n",
      "1 -0.0019059091405957407\n",
      "2 -0.631754678586187\n",
      "3 -1.2643330022235124\n",
      "4 0.719515500464907\n",
      "5 -1.0575559317940533\n",
      "6 0.35086997921824215\n",
      "7 -2.0568738675374476\n",
      "8 0.2512306561634279\n",
      "9 0.8906148560579801\n",
      "10 -0.7303493728018138\n",
      "11 -0.7216375874039911\n",
      "12 2.2199796025927254\n",
      "13 1.0841982793689127\n",
      "14 1.5015087309670052\n",
      "15 -0.2649450067535364\n",
      "16 -0.4181444312029017\n",
      "17 0.2162068154358292\n",
      "18 0.0025748390026634205\n",
      "19 0.006253671144664796\n",
      "20 0.4622476132487212\n",
      "21 -0.6785666632309124\n",
      "22 1.1460760407938084\n",
      "23 -0.6254106501825547\n",
      "24 -0.6736811362236321\n",
      "25 0.6019602194502467\n",
      "26 -0.6027872163971217\n",
      "27 0.042181724780027574\n",
      "28 1.455944354192381\n",
      "29 0.9564201867478948\n",
      "30 1.7899474313584132\n",
      "31 0.6597508494171982\n",
      "32 1.0678829271612205\n",
      "33 -0.1498671506465994\n",
      "34 0.06415209798026966\n",
      "35 -1.7842703943242797\n",
      "36 1.482257441399893\n",
      "37 -1.510658159526291\n",
      "38 0.7416357695584643\n",
      "39 -2.8819522458644493\n",
      "40 2.013349080268438\n",
      "41 1.4368891114957658\n",
      "42 0.6597929007084322\n",
      "43 -0.5473394825609692\n",
      "44 3.6769570404715006\n",
      "45 1.3253315485804638\n",
      "46 2.5865100182510172\n",
      "47 -0.3957878881367489\n",
      "48 1.1535891875950695\n",
      "49 0.5720962655665762\n",
      "50 1.202332307205871\n",
      "51 -0.009833029319352038\n",
      "52 1.728840245820458\n",
      "53 -0.6278181993263998\n",
      "54 2.0406925227707813\n",
      "55 -0.946638336872806\n",
      "56 1.5922879795181284\n",
      "57 1.652085166524783\n",
      "58 1.291205748749875\n",
      "59 0.7203305212598001\n",
      "60 3.416772483707907\n",
      "61 1.7014041475961976\n",
      "62 3.378799410279176\n",
      "63 1.0327586596707363\n",
      "\n",
      "Best solution: 39, (-2.8819522458644493)\n"
     ]
    }
   ],
   "source": [
    "costs = [int_to_cost(i) for i in range(2**n)]\n",
    "\n",
    "for i in range(2**n):\n",
    "    print(i, costs[i])\n",
    "\n",
    "best_sol = np.argmin(costs)\n",
    "print(f\"\\nBest solution: {best_sol}, ({costs[best_sol]})\")"
   ]
  },
  {
   "cell_type": "markdown",
   "id": "fbfbf11c-8402-4163-bde0-cd9370a6eca9",
   "metadata": {},
   "source": [
    "## Quantum Solution"
   ]
  },
  {
   "cell_type": "code",
   "execution_count": 5,
   "id": "4c0c6964-0bda-422f-94c3-d7e8955879ee",
   "metadata": {},
   "outputs": [],
   "source": [
    "c = -2*b - A.sum(0) - A.sum(1)\n",
    "const = 0.5 * b.sum() + 0.25 * A.sum() + 0.25 * A.trace()"
   ]
  },
  {
   "cell_type": "code",
   "execution_count": 6,
   "id": "a2ae0bd5-61f4-4b42-a609-c166229d47a3",
   "metadata": {},
   "outputs": [
    {
     "data": {
      "text/plain": [
       "SparsePauliOp(['ZIIIII', 'IZIIII', 'IIZIII', 'IIIZII', 'IIIIZI', 'IIIIIZ', 'ZZIIII', 'ZIZIII', 'ZIIZII', 'ZIIIZI', 'ZIIIIZ', 'IZZIII', 'IZIZII', 'IZIIZI', 'IZIIIZ', 'IIZZII', 'IIZIZI', 'IIZIIZ', 'IIIZZI', 'IIIZIZ', 'IIIIZZ'],\n",
       "              coeffs=[-1.44089074+0.j, -1.01040212+0.j, -2.23062765+0.j, -1.03194364+0.j,\n",
       "  1.30040017+0.j,  2.34794666+0.j,  0.50385069+0.j,  0.6942355 +0.j,\n",
       " -0.30514099+0.j, -0.37197615+0.j, -1.21584417+0.j, -0.50676736+0.j,\n",
       "  0.16087654+0.j,  1.05247395+0.j,  0.63625716+0.j,  1.24923345+0.j,\n",
       " -0.34982535+0.j,  0.64129011+0.j,  0.26310916+0.j, -1.77516552+0.j,\n",
       " -0.63067241+0.j])"
      ]
     },
     "execution_count": 6,
     "metadata": {},
     "output_type": "execute_result"
    }
   ],
   "source": [
    "# Construct Hamiltonian\n",
    "operators = []\n",
    "coefs = []\n",
    "\n",
    "for i in range(n):\n",
    "    op = ['I'] * n\n",
    "    op[i] = 'Z'\n",
    "    operators.append(Pauli(''.join(op)))\n",
    "    coefs.append(c[i])\n",
    "    \n",
    "for i in range(n-1):\n",
    "    for j in range(i+1, n):\n",
    "        op = ['I'] * n\n",
    "        op[i] = 'Z'\n",
    "        op[j] = 'Z'\n",
    "        operators.append(Pauli(''.join(op)))\n",
    "        coefs.append(A[i, j] + A[j, i])\n",
    "\n",
    "hamiltonian = SparsePauliOp(operators, coefs)\n",
    "hamiltonian"
   ]
  },
  {
   "cell_type": "code",
   "execution_count": 7,
   "id": "61be1d56-32c2-4ae2-bf11-014766773350",
   "metadata": {},
   "outputs": [],
   "source": [
    "hq = const + 0.25*np.diag(hamiltonian.to_matrix())\n",
    "assert np.allclose(hq, costs)"
   ]
  },
  {
   "cell_type": "code",
   "execution_count": 8,
   "id": "1cdad8e8-1b8c-4908-aee7-7052c0e5295d",
   "metadata": {},
   "outputs": [
    {
     "data": {
      "text/html": [
       "<pre style=\"word-wrap: normal;white-space: pre;background: #fff0;line-height: 1.1;font-family: &quot;Courier New&quot;,Courier,monospace\">     ┌─────────────┐\n",
       "q_0: ┤ Ry(theta_0) ├\n",
       "     ├─────────────┤\n",
       "q_1: ┤ Ry(theta_1) ├\n",
       "     ├─────────────┤\n",
       "q_2: ┤ Ry(theta_2) ├\n",
       "     ├─────────────┤\n",
       "q_3: ┤ Ry(theta_3) ├\n",
       "     ├─────────────┤\n",
       "q_4: ┤ Ry(theta_4) ├\n",
       "     ├─────────────┤\n",
       "q_5: ┤ Ry(theta_5) ├\n",
       "     └─────────────┘</pre>"
      ],
      "text/plain": [
       "     ┌─────────────┐\n",
       "q_0: ┤ Ry(theta_0) ├\n",
       "     ├─────────────┤\n",
       "q_1: ┤ Ry(theta_1) ├\n",
       "     ├─────────────┤\n",
       "q_2: ┤ Ry(theta_2) ├\n",
       "     ├─────────────┤\n",
       "q_3: ┤ Ry(theta_3) ├\n",
       "     ├─────────────┤\n",
       "q_4: ┤ Ry(theta_4) ├\n",
       "     ├─────────────┤\n",
       "q_5: ┤ Ry(theta_5) ├\n",
       "     └─────────────┘"
      ]
     },
     "execution_count": 8,
     "metadata": {},
     "output_type": "execute_result"
    }
   ],
   "source": [
    "qc = QuantumCircuit(n)\n",
    "\n",
    "for i in range(n):\n",
    "    qc.ry(Parameter(f'theta_{i}'), i)\n",
    "\n",
    "qc.draw()"
   ]
  },
  {
   "cell_type": "code",
   "execution_count": 9,
   "id": "7c01406e-3f16-458e-ab9a-d635b21c0f6a",
   "metadata": {},
   "outputs": [],
   "source": [
    "def cost_func(params):\n",
    "    \"\"\"Return estimate of energy from estimator\"\"\"\n",
    "    pub = (qc, [hamiltonian], [params])\n",
    "    result = estimator.run(pubs=[pub]).result()\n",
    "    energy = result[0].data.evs[0]\n",
    "\n",
    "    cost_history.append(energy)\n",
    "    print(f\"Current cost: {energy}\")\n",
    "\n",
    "    return energy"
   ]
  },
  {
   "cell_type": "code",
   "execution_count": 10,
   "id": "2a91526e-26e9-4e21-9d1a-d8515d991244",
   "metadata": {},
   "outputs": [
    {
     "name": "stdout",
     "output_type": "stream",
     "text": [
      "Current cost: -3.9598724104882552\n",
      "Current cost: -4.048902100831817\n",
      "Current cost: -5.28101881427792\n",
      "Current cost: -6.066765527689072\n",
      "Current cost: -6.604069775345615\n",
      "Current cost: -8.192947383254563\n",
      "Current cost: -8.506616555787907\n",
      "Current cost: -8.552523989023635\n",
      "Current cost: -7.593820206335344\n",
      "Current cost: -8.038631878923534\n",
      "Current cost: -7.551084675884049\n",
      "Current cost: -7.43157004939017\n",
      "Current cost: -9.825324435110836\n",
      "Current cost: -8.497806335232124\n",
      "Current cost: -10.169452153041446\n",
      "Current cost: -9.919797764970138\n",
      "Current cost: -9.41344188821153\n",
      "Current cost: -10.362419928385439\n",
      "Current cost: -9.295226662361411\n",
      "Current cost: -10.196310886480932\n",
      "Current cost: -11.02992483443623\n",
      "Current cost: -10.313609679299063\n",
      "Current cost: -11.347445185092097\n",
      "Current cost: -11.670822509552528\n",
      "Current cost: -12.279405625882134\n",
      "Current cost: -12.299950052538867\n",
      "Current cost: -11.765827230351979\n",
      "Current cost: -12.669771758042767\n",
      "Current cost: -12.930624431726967\n",
      "Current cost: -12.980326529451727\n",
      "Current cost: -13.225885995509662\n",
      "Current cost: -11.985480941794078\n",
      "Current cost: -12.987281084703282\n",
      "Current cost: -13.450665979019723\n",
      "Current cost: -12.579379812768849\n",
      "Current cost: -13.25861704385208\n",
      "Current cost: -13.209030329375267\n",
      "Current cost: -13.35794697917898\n",
      "Current cost: -13.423392909570266\n",
      "Current cost: -13.409195706519144\n",
      "Current cost: -13.378957179070653\n",
      "Current cost: -13.221619429482907\n",
      "Current cost: -13.506553317931505\n",
      "Current cost: -13.437453811258575\n",
      "Current cost: -13.503057585449461\n",
      "Current cost: -13.495293039761838\n",
      "Current cost: -13.511378392906725\n",
      "Current cost: -13.482197748963014\n",
      "Current cost: -13.489976152384191\n",
      "Current cost: -13.4878322472689\n",
      "Current cost: -13.53940865537837\n",
      "Current cost: -13.541162290490686\n",
      "Current cost: -13.534452703133566\n",
      "Current cost: -13.540788182667864\n",
      "Current cost: -13.541841558539904\n",
      "Current cost: -13.537151451661682\n",
      "Current cost: -13.536639498503385\n",
      "Current cost: -13.541750200578647\n",
      "Current cost: -13.540028996429827\n",
      "Current cost: -13.542569360151546\n",
      "Current cost: -13.543762399087509\n",
      "Current cost: -13.545517628689861\n",
      "Current cost: -13.544110124722941\n",
      "Current cost: -13.543762653884496\n",
      "Current cost: -13.54524500260904\n",
      "Current cost: -13.546267594612768\n",
      "Current cost: -13.546368179297254\n",
      "Current cost: -13.546775950195789\n",
      "Current cost: -13.546569513932182\n",
      "Current cost: -13.547015192632209\n",
      "Current cost: -13.547142360241521\n",
      "Current cost: -13.546676774176513\n",
      "Current cost: -13.54621043493331\n",
      "Current cost: -13.547090089523218\n",
      "Current cost: -13.546991417170565\n",
      "Current cost: -13.547231268062164\n",
      "Current cost: -13.547306656599055\n",
      "Current cost: -13.547350732008177\n",
      "Current cost: -13.547320093698742\n",
      "Current cost: -13.547355222262473\n",
      "Current cost: -13.547284979250557\n",
      "Current cost: -13.547315604189423\n",
      "Current cost: -13.54725104204907\n",
      "Current cost: -13.547266109014295\n",
      "Current cost: -13.547348693520835\n",
      "Current cost: -13.547380068471107\n",
      "Current cost: -13.547372862416827\n",
      "Current cost: -13.54738250345477\n",
      "Current cost: -13.54738188495388\n",
      "Current cost: -13.547375487549717\n",
      "Current cost: -13.547376975497112\n",
      "Current cost: -13.54737824158387\n",
      "Current cost: -13.547384328634035\n",
      "Current cost: -13.547386242845564\n",
      "Current cost: -13.547384624210316\n",
      "Current cost: -13.547388730249821\n",
      "Current cost: -13.54738771263214\n",
      "Current cost: -13.547387048220836\n",
      "Current cost: -13.547390546071393\n",
      "Current cost: -13.547391004597985\n",
      "Current cost: -13.54739068735524\n",
      "Current cost: -13.54739061986395\n",
      "Current cost: -13.547390741469709\n",
      "Current cost: -13.547391166078562\n",
      "Current cost: -13.547390775866583\n",
      "Current cost: -13.547389902021012\n",
      "Current cost: -13.547391476838294\n",
      "Current cost: -13.547391632579247\n",
      "Current cost: -13.547391536804081\n",
      "Current cost: -13.54739162578906\n",
      "Current cost: -13.547391581738996\n",
      "Current cost: -13.547391570574373\n",
      "Current cost: -13.547391604751857\n",
      "Current cost: -13.547391628981687\n",
      "Current cost: -13.547391639498473\n",
      "Current cost: -13.547391622467348\n",
      "Current cost: -13.547391679570072\n",
      "Current cost: -13.547391700782585\n",
      "Current cost: -13.54739167821262\n",
      "Current cost: -13.5473916933954\n",
      "Current cost: -13.547391698002109\n",
      "Current cost: -13.547391692267873\n",
      "Current cost: -13.547391696603702\n"
     ]
    }
   ],
   "source": [
    "estimator = StatevectorEstimator()\n",
    "\n",
    "cost_history = []\n",
    "x0 = 2 * np.pi * np.random.rand(n)\n",
    "res = minimize(cost_func, x0, method=\"cobyla\")"
   ]
  },
  {
   "cell_type": "code",
   "execution_count": 11,
   "id": "4784d2e1-0b5f-4d39-9f79-60942c3ae2c3",
   "metadata": {},
   "outputs": [
    {
     "data": {
      "text/plain": [
       " message: Optimization terminated successfully.\n",
       " success: True\n",
       "  status: 1\n",
       "     fun: -13.547391696603702\n",
       "       x: [ 3.142e+00  3.142e+00  3.142e+00  6.283e+00  6.283e+00\n",
       "            9.425e+00]\n",
       "    nfev: 123\n",
       "   maxcv: 0.0"
      ]
     },
     "execution_count": 11,
     "metadata": {},
     "output_type": "execute_result"
    }
   ],
   "source": [
    "res"
   ]
  },
  {
   "cell_type": "code",
   "execution_count": 12,
   "id": "3739a957-68c9-4e15-a39c-0c82b5ecfb19",
   "metadata": {},
   "outputs": [
    {
     "data": {
      "text/plain": [
       "array([6.55162004e-42, 2.30359919e-29, 1.33911605e-32, 4.70843337e-20,\n",
       "       3.64394005e-33, 1.28123690e-20, 7.44801831e-24, 2.61877960e-11,\n",
       "       1.57815761e-53, 5.54892157e-41, 3.22566963e-44, 1.13416985e-31,\n",
       "       8.77754154e-45, 3.08625003e-32, 1.79408248e-35, 6.30812978e-23,\n",
       "       5.85889693e-52, 2.06003250e-39, 1.19752716e-42, 4.21059610e-30,\n",
       "       3.25865497e-43, 1.14576775e-30, 6.66051623e-34, 2.34188791e-21,\n",
       "       1.41129411e-63, 4.96221689e-51, 2.88460957e-54, 1.01425056e-41,\n",
       "       7.84946485e-55, 2.75993124e-42, 1.60438858e-45, 5.64115165e-33,\n",
       "       2.50178366e-31, 8.79646069e-19, 5.11351182e-22, 1.79794945e-09,\n",
       "       1.39146496e-22, 4.89249609e-10, 2.84407985e-13, 9.99999998e-01,\n",
       "       6.02630936e-43, 2.11889598e-30, 1.23174536e-33, 4.33090990e-21,\n",
       "       3.35176794e-34, 1.17850697e-21, 6.85083417e-25, 2.40880514e-12,\n",
       "       2.23726232e-41, 7.86638362e-29, 4.57284436e-32, 1.60784668e-19,\n",
       "       1.24434105e-32, 4.37519730e-20, 2.54336646e-23, 8.94266896e-11,\n",
       "       5.38912898e-53, 1.89485853e-40, 1.10150910e-43, 3.87298936e-31,\n",
       "       2.99737512e-44, 1.05389978e-31, 6.12647422e-35, 2.15411470e-22])"
      ]
     },
     "execution_count": 12,
     "metadata": {},
     "output_type": "execute_result"
    }
   ],
   "source": [
    "sv = Statevector(qc.assign_parameters(res.x))\n",
    "sv.probabilities()"
   ]
  },
  {
   "cell_type": "code",
   "execution_count": 13,
   "id": "f0e1f8dd-cf3b-4a3f-8bef-ea0add1aaa14",
   "metadata": {},
   "outputs": [
    {
     "data": {
      "text/plain": [
       "39"
      ]
     },
     "execution_count": 13,
     "metadata": {},
     "output_type": "execute_result"
    }
   ],
   "source": [
    "np.argmax(sv.probabilities())"
   ]
  }
 ],
 "metadata": {
  "kernelspec": {
   "display_name": "Python 3 (ipykernel)",
   "language": "python",
   "name": "python3"
  },
  "language_info": {
   "codemirror_mode": {
    "name": "ipython",
    "version": 3
   },
   "file_extension": ".py",
   "mimetype": "text/x-python",
   "name": "python",
   "nbconvert_exporter": "python",
   "pygments_lexer": "ipython3",
   "version": "3.12.7"
  }
 },
 "nbformat": 4,
 "nbformat_minor": 5
}
