{
 "cells": [
  {
   "cell_type": "markdown",
   "metadata": {},
   "source": [
    "### QSVM4EO\n",
    "\n",
    "This notebook will present the an example of using quantum-enhanced support vector machines (QSVM) for classification tasks on multi-spectral Earth Observation (EO) data. The main topics covered are introduction to classical SVM, where quantum computation could be used in the SVM calculations, the intricacies of preparing and encoding the classical data into useful quantum states and training QSVMs on gate-based quantum software simulators. Finally, some results on comparing classical and quantum-enhanced SVM models will be presented.\n",
    "\n",
    "QSVM code is adapted from Qiskit QSVM example: https://qiskit-community.github.io/qiskit-machine-learning/tutorials/03_quantum_kernel.html"
   ]
  },
  {
   "cell_type": "code",
   "execution_count": 1,
   "metadata": {},
   "outputs": [],
   "source": [
    "import qiskit\n",
    "\n",
    "from qiskit_machine_learning.utils import algorithm_globals\n",
    "\n",
    "algorithm_globals.random_seed = 12345"
   ]
  },
  {
   "cell_type": "code",
   "execution_count": 2,
   "metadata": {},
   "outputs": [],
   "source": [
    "# from qiskit_machine_learning.datasets import ad_hoc_data\n",
    "\n",
    "# adhoc_dimension = 2\n",
    "# train_features, train_labels, test_features, test_labels, adhoc_total = ad_hoc_data(\n",
    "#     training_size=20,\n",
    "#     test_size=5,\n",
    "#     n=adhoc_dimension,\n",
    "#     gap=0.3,\n",
    "#     plot_data=False,\n",
    "#     one_hot=False,\n",
    "#     include_sample_total=True,\n",
    "# )"
   ]
  },
  {
   "cell_type": "code",
   "execution_count": 3,
   "metadata": {},
   "outputs": [],
   "source": [
    "import pandas as pd \n",
    "from sklearn.model_selection import train_test_split\n",
    "import numpy as np\n",
    "\n",
    "def read_csv(file_dir, selected_columns):\n",
    "    df = pd.read_csv(file_dir)\n",
    "    df_selected = df[selected_columns]\n",
    "    X = df_selected.values\n",
    "    Y = df['Label'].values\n",
    "    return X,Y\n",
    "\n",
    "def generate_splits(\n",
    "    X, Y, test_size, random_state=18051967, trim = None):\n",
    "    if trim:\n",
    "        X = X[:trim]\n",
    "        Y = Y[:trim]\n",
    "    X_train, X_val, Y_train, Y_val = train_test_split(\n",
    "        X, Y, test_size=test_size, random_state=random_state\n",
    "    )\n",
    "    return X_train, X_val, Y_train, Y_val\n",
    "\n",
    "\n"
   ]
  },
  {
   "cell_type": "code",
   "execution_count": 4,
   "metadata": {},
   "outputs": [],
   "source": [
    "train_data = 'data/chips_4369/band_indices_4369_32.csv'\n",
    "test_data = 'data/chips_4883/band_indices_4883_32.csv'\n",
    "\n",
    "four_features_data = ['B02', 'B03', 'B04', 'B08']\n",
    "adhoc_dimension = 4\n",
    "eight_features_data = ['B02', 'B03', 'B04', 'B08', 'NDVI', 'EVI', 'SAVI', 'NDWI']\n",
    "\n"
   ]
  },
  {
   "cell_type": "code",
   "execution_count": 5,
   "metadata": {},
   "outputs": [],
   "source": [
    "train_features, train_labels = read_csv(train_data, four_features_data)\n",
    "\n",
    "test_features, test_labels = read_csv(test_data, four_features_data)"
   ]
  },
  {
   "cell_type": "code",
   "execution_count": null,
   "metadata": {},
   "outputs": [],
   "source": []
  },
  {
   "cell_type": "code",
   "execution_count": 6,
   "metadata": {},
   "outputs": [
    {
     "name": "stdout",
     "output_type": "stream",
     "text": [
      "Precomputed classical kernel classification test score: 0.3359375\n"
     ]
    }
   ],
   "source": [
    "from sklearn.svm import SVC\n",
    "\n",
    "svc_classifier = SVC(kernel='sigmoid')\n",
    "svc_classifier.fit(train_features, train_labels)\n",
    "\n",
    "train_score = svc_classifier.score(train_features, train_labels)\n",
    "test_score = svc_classifier.score(test_features, test_labels)\n",
    "\n",
    "\n",
    "print(f\"Precomputed classical kernel classification test score: {test_score}\")\n",
    "\n"
   ]
  },
  {
   "cell_type": "code",
   "execution_count": 7,
   "metadata": {},
   "outputs": [
    {
     "data": {
      "text/html": [
       "<pre style=\"word-wrap: normal;white-space: pre;background: #fff0;line-height: 1.1;font-family: &quot;Courier New&quot;,Courier,monospace\">     ┌───┐┌─────────────┐┌───┐┌─────────────┐\n",
       "q_0: ┤ H ├┤ P(2.0*x[0]) ├┤ H ├┤ P(2.0*x[0]) ├\n",
       "     ├───┤├─────────────┤├───┤├─────────────┤\n",
       "q_1: ┤ H ├┤ P(2.0*x[1]) ├┤ H ├┤ P(2.0*x[1]) ├\n",
       "     ├───┤├─────────────┤├───┤├─────────────┤\n",
       "q_2: ┤ H ├┤ P(2.0*x[2]) ├┤ H ├┤ P(2.0*x[2]) ├\n",
       "     ├───┤├─────────────┤├───┤├─────────────┤\n",
       "q_3: ┤ H ├┤ P(2.0*x[3]) ├┤ H ├┤ P(2.0*x[3]) ├\n",
       "     └───┘└─────────────┘└───┘└─────────────┘</pre>"
      ],
      "text/plain": [
       "     ┌───┐┌─────────────┐┌───┐┌─────────────┐\n",
       "q_0: ┤ H ├┤ P(2.0*x[0]) ├┤ H ├┤ P(2.0*x[0]) ├\n",
       "     ├───┤├─────────────┤├───┤├─────────────┤\n",
       "q_1: ┤ H ├┤ P(2.0*x[1]) ├┤ H ├┤ P(2.0*x[1]) ├\n",
       "     ├───┤├─────────────┤├───┤├─────────────┤\n",
       "q_2: ┤ H ├┤ P(2.0*x[2]) ├┤ H ├┤ P(2.0*x[2]) ├\n",
       "     ├───┤├─────────────┤├───┤├─────────────┤\n",
       "q_3: ┤ H ├┤ P(2.0*x[3]) ├┤ H ├┤ P(2.0*x[3]) ├\n",
       "     └───┘└─────────────┘└───┘└─────────────┘"
      ]
     },
     "execution_count": 7,
     "metadata": {},
     "output_type": "execute_result"
    }
   ],
   "source": [
    "from qiskit.circuit.library import ZZFeatureMap, ZFeatureMap\n",
    "from qiskit.primitives import StatevectorSampler as Sampler\n",
    "from qiskit_machine_learning.state_fidelities import ComputeUncompute\n",
    "from qiskit_machine_learning.kernels import FidelityQuantumKernel, FidelityStatevectorKernel\n",
    "\n",
    "#adhoc_feature_map = ZZFeatureMap(feature_dimension=adhoc_dimension, reps=2, entanglement=\"linear\")\n",
    "adhoc_feature_map = ZFeatureMap(feature_dimension=adhoc_dimension, reps=2)\n",
    "\n",
    "#sampler = Sampler()\n",
    "\n",
    "#fidelity = ComputeUncompute(sampler=sampler)\n",
    "\n",
    "# adhoc_kernel = FidelityQuantumKernel(fidelity=fidelity, feature_map=adhoc_feature_map)\n",
    "adhoc_kernel = FidelityStatevectorKernel(feature_map=adhoc_feature_map)\n",
    "\n",
    "adhoc_kernel.feature_map.decompose().draw()\n"
   ]
  },
  {
   "cell_type": "code",
   "execution_count": 8,
   "metadata": {},
   "outputs": [],
   "source": [
    "adhoc_matrix_train = adhoc_kernel.evaluate(x_vec=train_features)\n",
    "adhoc_matrix_test = adhoc_kernel.evaluate(x_vec=test_features, y_vec=train_features)"
   ]
  },
  {
   "cell_type": "code",
   "execution_count": 9,
   "metadata": {},
   "outputs": [
    {
     "name": "stdout",
     "output_type": "stream",
     "text": [
      "Precomputed quantum kernel classification test score: 0.359375\n"
     ]
    }
   ],
   "source": [
    "adhoc_svc = SVC(kernel=\"precomputed\")\n",
    "\n",
    "adhoc_svc.fit(adhoc_matrix_train, train_labels)\n",
    "\n",
    "adhoc_score_precomputed_kernel = adhoc_svc.score(adhoc_matrix_test, test_labels)\n",
    "\n",
    "print(f\"Precomputed quantum kernel classification test score: {adhoc_score_precomputed_kernel}\")"
   ]
  }
 ],
 "metadata": {
  "kernelspec": {
   "display_name": "Python 3",
   "language": "python",
   "name": "python3"
  },
  "language_info": {
   "codemirror_mode": {
    "name": "ipython",
    "version": 3
   },
   "file_extension": ".py",
   "mimetype": "text/x-python",
   "name": "python",
   "nbconvert_exporter": "python",
   "pygments_lexer": "ipython3",
   "version": "3.12.9"
  }
 },
 "nbformat": 4,
 "nbformat_minor": 2
}
